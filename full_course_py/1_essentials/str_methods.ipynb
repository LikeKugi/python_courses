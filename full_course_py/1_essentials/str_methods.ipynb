{
 "cells": [
  {
   "cell_type": "markdown",
   "id": "6495b11b",
   "metadata": {},
   "source": [
    "# str methods\n",
    "возвращают новые объекты"
   ]
  },
  {
   "cell_type": "code",
   "execution_count": 1,
   "id": "f52865e7",
   "metadata": {},
   "outputs": [],
   "source": [
    "x = 'Hello there this is Jupyter'"
   ]
  },
  {
   "cell_type": "code",
   "execution_count": 2,
   "id": "649bd665",
   "metadata": {},
   "outputs": [
    {
     "data": {
      "text/plain": [
       "27"
      ]
     },
     "execution_count": 2,
     "metadata": {},
     "output_type": "execute_result"
    }
   ],
   "source": [
    "len(x)"
   ]
  },
  {
   "cell_type": "code",
   "execution_count": 3,
   "id": "6ef1580e",
   "metadata": {},
   "outputs": [
    {
     "data": {
      "text/plain": [
       "True"
      ]
     },
     "execution_count": 3,
     "metadata": {},
     "output_type": "execute_result"
    }
   ],
   "source": [
    "x[len(x)-1] == x[-1]"
   ]
  },
  {
   "cell_type": "code",
   "execution_count": 4,
   "id": "50ec7eee",
   "metadata": {},
   "outputs": [
    {
     "data": {
      "text/plain": [
       "2"
      ]
     },
     "execution_count": 4,
     "metadata": {},
     "output_type": "execute_result"
    }
   ],
   "source": [
    "x.count('l')"
   ]
  },
  {
   "cell_type": "code",
   "execution_count": 5,
   "id": "e9344f48",
   "metadata": {},
   "outputs": [
    {
     "data": {
      "text/plain": [
       "'Hello there this is jupyter'"
      ]
     },
     "execution_count": 5,
     "metadata": {},
     "output_type": "execute_result"
    }
   ],
   "source": [
    "x.capitalize()"
   ]
  },
  {
   "cell_type": "code",
   "execution_count": 6,
   "id": "7fe05da0",
   "metadata": {},
   "outputs": [
    {
     "data": {
      "text/plain": [
       "'Hello There This Is Jupyter'"
      ]
     },
     "execution_count": 6,
     "metadata": {},
     "output_type": "execute_result"
    }
   ],
   "source": [
    "x.title()"
   ]
  },
  {
   "cell_type": "code",
   "execution_count": 7,
   "id": "4fb1f16f",
   "metadata": {},
   "outputs": [
    {
     "data": {
      "text/plain": [
       "'hello there this is jupyter'"
      ]
     },
     "execution_count": 7,
     "metadata": {},
     "output_type": "execute_result"
    }
   ],
   "source": [
    "x.lower()"
   ]
  },
  {
   "cell_type": "code",
   "execution_count": 8,
   "id": "ad310ce6",
   "metadata": {},
   "outputs": [
    {
     "data": {
      "text/plain": [
       "'HELLO THERE THIS IS JUPYTER'"
      ]
     },
     "execution_count": 8,
     "metadata": {},
     "output_type": "execute_result"
    }
   ],
   "source": [
    "x.upper()"
   ]
  },
  {
   "cell_type": "code",
   "execution_count": 9,
   "id": "a769eacd",
   "metadata": {},
   "outputs": [],
   "source": [
    "a = 'qwerty'\n",
    "b = 'QWERTY'"
   ]
  },
  {
   "cell_type": "code",
   "execution_count": 10,
   "id": "3a1af80d",
   "metadata": {},
   "outputs": [
    {
     "name": "stdout",
     "output_type": "stream",
     "text": [
      "True\n",
      "True\n",
      "False False\n"
     ]
    }
   ],
   "source": [
    "print(a.islower())\n",
    "print(b.isupper())\n",
    "print(x.islower(), x.isupper())"
   ]
  },
  {
   "cell_type": "code",
   "execution_count": 11,
   "id": "d544b2b9",
   "metadata": {},
   "outputs": [
    {
     "data": {
      "text/plain": [
       "14"
      ]
     },
     "execution_count": 11,
     "metadata": {},
     "output_type": "execute_result"
    }
   ],
   "source": [
    "x.find('i')"
   ]
  },
  {
   "cell_type": "code",
   "execution_count": 12,
   "id": "f78203b4",
   "metadata": {},
   "outputs": [
    {
     "data": {
      "text/plain": [
       "1"
      ]
     },
     "execution_count": 12,
     "metadata": {},
     "output_type": "execute_result"
    }
   ],
   "source": [
    "x.find('e')"
   ]
  },
  {
   "cell_type": "code",
   "execution_count": 13,
   "id": "b91a6bb8",
   "metadata": {},
   "outputs": [
    {
     "data": {
      "text/plain": [
       "8"
      ]
     },
     "execution_count": 13,
     "metadata": {},
     "output_type": "execute_result"
    }
   ],
   "source": [
    "x.find('e',3)"
   ]
  },
  {
   "cell_type": "code",
   "execution_count": 14,
   "id": "e3341de7",
   "metadata": {},
   "outputs": [
    {
     "name": "stdout",
     "output_type": "stream",
     "text": [
      "True\n"
     ]
    }
   ],
   "source": [
    "print('  '.isspace())"
   ]
  },
  {
   "cell_type": "code",
   "execution_count": 16,
   "id": "dd5f7d39",
   "metadata": {},
   "outputs": [
    {
     "name": "stdout",
     "output_type": "stream",
     "text": [
      "False\n"
     ]
    }
   ],
   "source": [
    "print(''.isspace())"
   ]
  },
  {
   "cell_type": "code",
   "execution_count": 18,
   "id": "164ff710",
   "metadata": {},
   "outputs": [
    {
     "name": "stdout",
     "output_type": "stream",
     "text": [
      "True\n"
     ]
    }
   ],
   "source": [
    "empty_str = ''\n",
    "print(empty_str == '')"
   ]
  },
  {
   "cell_type": "code",
   "execution_count": 19,
   "id": "36277d24",
   "metadata": {},
   "outputs": [
    {
     "name": "stdout",
     "output_type": "stream",
     "text": [
      "True\n"
     ]
    }
   ],
   "source": [
    "space_str = '  '\n",
    "print(space_str.strip() == '')"
   ]
  },
  {
   "cell_type": "code",
   "execution_count": 27,
   "id": "d6677cba",
   "metadata": {},
   "outputs": [
    {
     "name": "stdout",
     "output_type": "stream",
     "text": [
      "empty\n"
     ]
    }
   ],
   "source": [
    "empty_str = ''\n",
    "if empty_str:\n",
    "    print('filled')\n",
    "else:\n",
    "    print('empty')"
   ]
  },
  {
   "cell_type": "code",
   "execution_count": 28,
   "id": "ba957245",
   "metadata": {},
   "outputs": [
    {
     "name": "stdout",
     "output_type": "stream",
     "text": [
      "True False\n"
     ]
    }
   ],
   "source": [
    "h = 'Hello'\n",
    "print(h.startswith('H'), h.endswith('0'))"
   ]
  }
 ],
 "metadata": {
  "kernelspec": {
   "display_name": "Python 3 (ipykernel)",
   "language": "python",
   "name": "python3"
  },
  "language_info": {
   "codemirror_mode": {
    "name": "ipython",
    "version": 3
   },
   "file_extension": ".py",
   "mimetype": "text/x-python",
   "name": "python",
   "nbconvert_exporter": "python",
   "pygments_lexer": "ipython3",
   "version": "3.9.13"
  }
 },
 "nbformat": 4,
 "nbformat_minor": 5
}
