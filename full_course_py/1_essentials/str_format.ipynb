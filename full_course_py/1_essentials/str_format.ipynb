{
 "cells": [
  {
   "cell_type": "code",
   "execution_count": 1,
   "id": "83e2f3f3",
   "metadata": {},
   "outputs": [
    {
     "name": "stdout",
     "output_type": "stream",
     "text": [
      "My name is Elias\n"
     ]
    }
   ],
   "source": [
    "print('My name is {}'.format('Elias'))"
   ]
  },
  {
   "cell_type": "code",
   "execution_count": 4,
   "id": "790826e1",
   "metadata": {},
   "outputs": [
    {
     "name": "stdout",
     "output_type": "stream",
     "text": [
      "My name is Elias\n"
     ]
    }
   ],
   "source": [
    "my_name = 'Elias'\n",
    "print(f'My name is {my_name}')"
   ]
  },
  {
   "cell_type": "code",
   "execution_count": 5,
   "id": "0acd8835",
   "metadata": {},
   "outputs": [
    {
     "name": "stdout",
     "output_type": "stream",
     "text": [
      "My name is Elias and I am 31yo\n"
     ]
    }
   ],
   "source": [
    "print('My name is {} and I am {}yo'.format('Elias','31'))"
   ]
  },
  {
   "cell_type": "code",
   "execution_count": 6,
   "id": "e7e86bb2",
   "metadata": {},
   "outputs": [
    {
     "data": {
      "text/plain": [
       "3.1415"
      ]
     },
     "execution_count": 6,
     "metadata": {},
     "output_type": "execute_result"
    }
   ],
   "source": [
    "pi = 3.1415\n",
    "pi"
   ]
  },
  {
   "cell_type": "code",
   "execution_count": 7,
   "id": "5aebef0f",
   "metadata": {},
   "outputs": [
    {
     "name": "stdout",
     "output_type": "stream",
     "text": [
      "Pi equals 3.14\n"
     ]
    }
   ],
   "source": [
    "print(f'Pi equals {pi:1.2f}')"
   ]
  }
 ],
 "metadata": {
  "kernelspec": {
   "display_name": "Python 3 (ipykernel)",
   "language": "python",
   "name": "python3"
  },
  "language_info": {
   "codemirror_mode": {
    "name": "ipython",
    "version": 3
   },
   "file_extension": ".py",
   "mimetype": "text/x-python",
   "name": "python",
   "nbconvert_exporter": "python",
   "pygments_lexer": "ipython3",
   "version": "3.9.13"
  }
 },
 "nbformat": 4,
 "nbformat_minor": 5
}
