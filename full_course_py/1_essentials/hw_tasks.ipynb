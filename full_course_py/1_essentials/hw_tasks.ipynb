{
 "cells": [
  {
   "cell_type": "markdown",
   "id": "53a12420",
   "metadata": {},
   "source": [
    "1. Клиент покупает кофе в кафе. За каждые 6 чашек, 1 чашка даётся в качестве бонуса.\n",
    "\n",
    "Задача: запросить у пользователя кол-во чашек на покупку, вычислить полагающееся кол-во бонусных чашек кофе и вывести это число на консоль."
   ]
  },
  {
   "cell_type": "code",
   "execution_count": 1,
   "id": "9dd7ea3e",
   "metadata": {},
   "outputs": [
    {
     "name": "stdout",
     "output_type": "stream",
     "text": [
      "how many cups do you want? 12\n",
      "2\n"
     ]
    }
   ],
   "source": [
    "count_cups = int(input('how many cups do you want? '))\n",
    "print(bonus_cups := count_cups // 6)"
   ]
  },
  {
   "cell_type": "markdown",
   "id": "086cd004",
   "metadata": {},
   "source": [
    "2. Запросить у пользователя координаты x и y двух точек на плоскости. Посчитать расстояние между заданными точками и вывести результат на консоль с точностью до трёх знаков после запятой (плавающей точки)."
   ]
  },
  {
   "cell_type": "code",
   "execution_count": 4,
   "id": "d64c8cc8",
   "metadata": {},
   "outputs": [
    {
     "name": "stdout",
     "output_type": "stream",
     "text": [
      "A(X): 5\n",
      "A(Y): 7\n",
      "B(X): 1\n",
      "B(Y): 9\n",
      "distance between points equals: 7.483\n"
     ]
    }
   ],
   "source": [
    "import math\n",
    "a_x = int(input('A(X): '))\n",
    "a_y = int(input('A(Y): '))\n",
    "\n",
    "b_x = int(input('B(X): '))\n",
    "b_y = int(input('B(Y): '))\n",
    "\n",
    "length = math.sqrt(abs(a_x**2 - b_x**2) + abs(a_y**2 - b_y**2))\n",
    "print(f'distance between points equals: {round(length, 3)}')"
   ]
  },
  {
   "cell_type": "markdown",
   "id": "bf428047",
   "metadata": {},
   "source": [
    "3. На ферме есть куры, коровы и свиньи. У курицы две ноги, у свиньи - четыре, у коровы - четыре. Запросить у пользователя (фермера) ввод кол-ва кур, свиней и коров, просуммировать кол-во ног всех животных и вывести результат на консоль."
   ]
  },
  {
   "cell_type": "code",
   "execution_count": 7,
   "id": "b9861e0b",
   "metadata": {},
   "outputs": [
    {
     "name": "stdout",
     "output_type": "stream",
     "text": [
      "count of chicken? 5\n",
      "count of pig? 10\n",
      "count of cow? 15\n",
      "110\n"
     ]
    }
   ],
   "source": [
    "animals = {}\n",
    "\n",
    "for animal in ['chicken', 'pig', 'cow']:\n",
    "    animals[animal] = int(input(f'count of {animal}? '))\n",
    "legs = sum(map(lambda x: x * 4, animals.values())) - animals.get('chicken') * 2\n",
    "print(legs)"
   ]
  },
  {
   "cell_type": "code",
   "execution_count": null,
   "id": "33aae0ac",
   "metadata": {},
   "outputs": [],
   "source": []
  }
 ],
 "metadata": {
  "kernelspec": {
   "display_name": "Python 3 (ipykernel)",
   "language": "python",
   "name": "python3"
  },
  "language_info": {
   "codemirror_mode": {
    "name": "ipython",
    "version": 3
   },
   "file_extension": ".py",
   "mimetype": "text/x-python",
   "name": "python",
   "nbconvert_exporter": "python",
   "pygments_lexer": "ipython3",
   "version": "3.9.13"
  }
 },
 "nbformat": 4,
 "nbformat_minor": 5
}
