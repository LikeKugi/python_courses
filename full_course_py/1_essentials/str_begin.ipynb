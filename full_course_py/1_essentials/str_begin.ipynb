{
 "cells": [
  {
   "cell_type": "markdown",
   "id": "2327a0b9",
   "metadata": {},
   "source": [
    "# str - immutable type\n",
    "строки - дорогой по памяти тип данных"
   ]
  },
  {
   "cell_type": "code",
   "execution_count": 1,
   "id": "2d608190",
   "metadata": {},
   "outputs": [],
   "source": [
    "s1 = 'elias'\n",
    "s2 = \"elias\""
   ]
  },
  {
   "cell_type": "code",
   "execution_count": 3,
   "id": "18992278",
   "metadata": {},
   "outputs": [],
   "source": [
    "name = \"I'm Elias\""
   ]
  },
  {
   "cell_type": "code",
   "execution_count": 4,
   "id": "0c4230aa",
   "metadata": {},
   "outputs": [
    {
     "name": "stdout",
     "output_type": "stream",
     "text": [
      "I'm Elias\n"
     ]
    }
   ],
   "source": [
    "print(name)"
   ]
  },
  {
   "cell_type": "markdown",
   "id": "cd34d8ae",
   "metadata": {},
   "source": [
    "## Экранирование"
   ]
  },
  {
   "cell_type": "code",
   "execution_count": 6,
   "id": "d67eee27",
   "metadata": {},
   "outputs": [
    {
     "name": "stdout",
     "output_type": "stream",
     "text": [
      "I'm Elias and I'm \"learning\"\n"
     ]
    }
   ],
   "source": [
    "s = 'I\\'m Elias and I\\'m \\\"learning\\\"'\n",
    "print(s)"
   ]
  },
  {
   "cell_type": "code",
   "execution_count": 8,
   "id": "4250234b",
   "metadata": {},
   "outputs": [
    {
     "name": "stdout",
     "output_type": "stream",
     "text": [
      "c:\\Python310\\\n"
     ]
    }
   ],
   "source": [
    "path = 'c:\\\\Python310\\\\'\n",
    "print(path)"
   ]
  },
  {
   "cell_type": "code",
   "execution_count": 9,
   "id": "797e9b99",
   "metadata": {},
   "outputs": [
    {
     "name": "stdout",
     "output_type": "stream",
     "text": [
      "c://python310/\n"
     ]
    }
   ],
   "source": [
    "path2 = 'c://python310/'\n",
    "print(path2)"
   ]
  },
  {
   "cell_type": "code",
   "execution_count": 16,
   "id": "d9d83fa6",
   "metadata": {},
   "outputs": [
    {
     "name": "stdout",
     "output_type": "stream",
     "text": [
      "c:\\\\python310\\python.exe\n"
     ]
    }
   ],
   "source": [
    "print(r'c:\\\\python310\\python.exe')"
   ]
  },
  {
   "cell_type": "markdown",
   "id": "aa033602",
   "metadata": {},
   "source": [
    "| sign | meaning |\n",
    "|---|----|\n",
    "| \\n | new line |\n",
    "| \\t | tab |\n",
    "| \\r | carriage return |"
   ]
  },
  {
   "cell_type": "markdown",
   "id": "b738a6b7",
   "metadata": {},
   "source": [
    "## Indexes"
   ]
  },
  {
   "cell_type": "code",
   "execution_count": 17,
   "id": "c085948e",
   "metadata": {},
   "outputs": [
    {
     "name": "stdout",
     "output_type": "stream",
     "text": [
      "e\n"
     ]
    }
   ],
   "source": [
    "greeting = 'Hello, there!'\n",
    "print(greeting[1])"
   ]
  },
  {
   "cell_type": "code",
   "execution_count": 18,
   "id": "7fa6fd94",
   "metadata": {},
   "outputs": [
    {
     "name": "stdout",
     "output_type": "stream",
     "text": [
      "!\n"
     ]
    }
   ],
   "source": [
    "print(greeting[-1])"
   ]
  },
  {
   "cell_type": "code",
   "execution_count": 19,
   "id": "f3b23f75",
   "metadata": {},
   "outputs": [
    {
     "name": "stdout",
     "output_type": "stream",
     "text": [
      "llo,\n"
     ]
    }
   ],
   "source": [
    "print(greeting[2:6])"
   ]
  },
  {
   "cell_type": "code",
   "execution_count": 25,
   "id": "e88fcd1a",
   "metadata": {},
   "outputs": [
    {
     "name": "stdout",
     "output_type": "stream",
     "text": [
      "H: 0\n",
      "e: 1\n",
      "l: 2\n",
      "l: 3\n",
      "o: 4\n",
      ",: 5\n",
      " : 6\n",
      "t: 7\n",
      "h: 8\n",
      "e: 9\n",
      "r: 10\n",
      "e: 11\n",
      "!: 12\n"
     ]
    }
   ],
   "source": [
    "print(*[f'{char}: {index}' for index, char in enumerate(greeting)],sep='\\n')"
   ]
  },
  {
   "cell_type": "markdown",
   "id": "320abf22",
   "metadata": {},
   "source": [
    "### Формат Print через %s"
   ]
  },
  {
   "cell_type": "code",
   "execution_count": 30,
   "id": "c6fb2e87",
   "metadata": {},
   "outputs": [
    {
     "name": "stdout",
     "output_type": "stream",
     "text": [
      "hello, world\n"
     ]
    }
   ],
   "source": [
    "a = 'hello'\n",
    "b = 'world'\n",
    "print('%s, %s' % (a, b))"
   ]
  }
 ],
 "metadata": {
  "kernelspec": {
   "display_name": "Python 3 (ipykernel)",
   "language": "python",
   "name": "python3"
  },
  "language_info": {
   "codemirror_mode": {
    "name": "ipython",
    "version": 3
   },
   "file_extension": ".py",
   "mimetype": "text/x-python",
   "name": "python",
   "nbconvert_exporter": "python",
   "pygments_lexer": "ipython3",
   "version": "3.9.13"
  }
 },
 "nbformat": 4,
 "nbformat_minor": 5
}
