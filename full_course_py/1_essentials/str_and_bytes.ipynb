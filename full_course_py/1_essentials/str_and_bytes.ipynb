{
 "cells": [
  {
   "cell_type": "markdown",
   "id": "d382acb4",
   "metadata": {},
   "source": [
    "# unicode\n",
    "unicode-table.com"
   ]
  },
  {
   "cell_type": "code",
   "execution_count": 1,
   "id": "bc8901f8",
   "metadata": {},
   "outputs": [
    {
     "data": {
      "text/plain": [
       "'utf-8'"
      ]
     },
     "execution_count": 1,
     "metadata": {},
     "output_type": "execute_result"
    }
   ],
   "source": [
    "import sys\n",
    "sys.getdefaultencoding()"
   ]
  },
  {
   "cell_type": "code",
   "execution_count": 5,
   "id": "32945971",
   "metadata": {},
   "outputs": [
    {
     "name": "stdout",
     "output_type": "stream",
     "text": [
      "97\n",
      "65\n"
     ]
    }
   ],
   "source": [
    "print(ord('a'))\n",
    "print(ord('A'))"
   ]
  },
  {
   "cell_type": "code",
   "execution_count": 6,
   "id": "888f5909",
   "metadata": {},
   "outputs": [
    {
     "name": "stdout",
     "output_type": "stream",
     "text": [
      "122\n",
      "90\n"
     ]
    }
   ],
   "source": [
    "print(ord('z'))\n",
    "print(ord('Z'))"
   ]
  },
  {
   "cell_type": "code",
   "execution_count": 8,
   "id": "e1900ea3",
   "metadata": {},
   "outputs": [
    {
     "name": "stdout",
     "output_type": "stream",
     "text": [
      "<class 'bytes'>\n",
      "b'hello'\n",
      "b'hello'\n",
      "b'\\xff\\xfeh\\x00e\\x00l\\x00l\\x00o\\x00'\n"
     ]
    }
   ],
   "source": [
    "s = 'hello'\n",
    "enc_ascii = s.encode('ascii')\n",
    "enc_utf8 = s.encode('utf-8')\n",
    "enc_utf16 = s.encode('utf-16')\n",
    "\n",
    "print(type(enc_ascii))\n",
    "print(enc_ascii)\n",
    "print(enc_utf8)\n",
    "print(enc_utf16)"
   ]
  },
  {
   "cell_type": "code",
   "execution_count": 9,
   "id": "642ac3f1",
   "metadata": {},
   "outputs": [
    {
     "name": "stdout",
     "output_type": "stream",
     "text": [
      "5\n",
      "5\n",
      "12\n"
     ]
    }
   ],
   "source": [
    "print(len(enc_ascii))\n",
    "print(len(enc_utf8))\n",
    "print(len(enc_utf16))"
   ]
  },
  {
   "cell_type": "code",
   "execution_count": 13,
   "id": "9026c22e",
   "metadata": {
    "scrolled": false
   },
   "outputs": [
    {
     "name": "stdout",
     "output_type": "stream",
     "text": [
      "b'hello'\n"
     ]
    }
   ],
   "source": [
    "str_in_bytes = b'hello'\n",
    "print(str_in_bytes)"
   ]
  },
  {
   "cell_type": "markdown",
   "id": "fe4ab5ed",
   "metadata": {},
   "source": [
    "byte - неизменяемый тип\n",
    "bytearray - изменяемый тип"
   ]
  },
  {
   "cell_type": "code",
   "execution_count": 11,
   "id": "d48dd134",
   "metadata": {},
   "outputs": [],
   "source": [
    "ba = bytearray(b'hello')\n",
    "ba[0] = 86"
   ]
  },
  {
   "cell_type": "code",
   "execution_count": 14,
   "id": "15553a4f",
   "metadata": {},
   "outputs": [
    {
     "name": "stdout",
     "output_type": "stream",
     "text": [
      "bytearray(b'Vello')\n"
     ]
    }
   ],
   "source": [
    "print(ba)"
   ]
  },
  {
   "cell_type": "code",
   "execution_count": 15,
   "id": "b9f9d821",
   "metadata": {},
   "outputs": [
    {
     "name": "stdout",
     "output_type": "stream",
     "text": [
      "b'hello'\n",
      "b'hello'\n",
      "8\n"
     ]
    }
   ],
   "source": [
    "print(str_in_bytes)\n",
    "result = str(str_in_bytes)\n",
    "print(result)\n",
    "print(len(result))"
   ]
  },
  {
   "cell_type": "code",
   "execution_count": 17,
   "id": "31cd71e8",
   "metadata": {},
   "outputs": [
    {
     "name": "stdout",
     "output_type": "stream",
     "text": [
      "hello\n",
      "5\n"
     ]
    }
   ],
   "source": [
    "true_result = str(str_in_bytes, 'utf-8')\n",
    "print(true_result)\n",
    "print(len(true_result))"
   ]
  },
  {
   "cell_type": "markdown",
   "id": "3ba97d8d",
   "metadata": {},
   "source": [
    "## Запись и чтение байтов в файл"
   ]
  },
  {
   "cell_type": "code",
   "execution_count": 18,
   "id": "4a4d8084",
   "metadata": {},
   "outputs": [],
   "source": [
    "bytes_list = [120,3,255,0,100]\n",
    "with open('bytes.bin','w+b') as ouf:\n",
    "    ouf.write(bytes(bytes_list))"
   ]
  },
  {
   "cell_type": "code",
   "execution_count": 20,
   "id": "87567cb9",
   "metadata": {},
   "outputs": [
    {
     "name": "stdout",
     "output_type": "stream",
     "text": [
      "120\n",
      "3\n",
      "255\n",
      "0\n",
      "100\n"
     ]
    }
   ],
   "source": [
    "with open('bytes.bin','rb') as inf:\n",
    "    data = inf.read()\n",
    "    for b in data:\n",
    "        print(int(b))"
   ]
  },
  {
   "cell_type": "code",
   "execution_count": null,
   "id": "b971b3a6",
   "metadata": {},
   "outputs": [],
   "source": []
  }
 ],
 "metadata": {
  "kernelspec": {
   "display_name": "Python 3 (ipykernel)",
   "language": "python",
   "name": "python3"
  },
  "language_info": {
   "codemirror_mode": {
    "name": "ipython",
    "version": 3
   },
   "file_extension": ".py",
   "mimetype": "text/x-python",
   "name": "python",
   "nbconvert_exporter": "python",
   "pygments_lexer": "ipython3",
   "version": "3.9.13"
  }
 },
 "nbformat": 4,
 "nbformat_minor": 5
}
