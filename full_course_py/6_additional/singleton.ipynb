{
 "cells": [
  {
   "cell_type": "code",
   "execution_count": 1,
   "id": "0a610396",
   "metadata": {},
   "outputs": [],
   "source": [
    "class Character:\n",
    "    \n",
    "    def __init__(self):\n",
    "        self.race = 'Elf'"
   ]
  },
  {
   "cell_type": "code",
   "execution_count": 2,
   "id": "7e04549c",
   "metadata": {},
   "outputs": [
    {
     "data": {
      "text/plain": [
       "'Elf'"
      ]
     },
     "execution_count": 2,
     "metadata": {},
     "output_type": "execute_result"
    }
   ],
   "source": [
    "c = Character()\n",
    "c.race"
   ]
  },
  {
   "cell_type": "code",
   "execution_count": 3,
   "id": "6bd9988b",
   "metadata": {},
   "outputs": [],
   "source": [
    "class Character:\n",
    "    \n",
    "    def __new__(cls):\n",
    "        obj = super().__new__(cls)\n",
    "        return obj\n",
    "    \n",
    "    def __init__(self):\n",
    "        self.race = 'Elf'"
   ]
  },
  {
   "cell_type": "code",
   "execution_count": 4,
   "id": "b58cf410",
   "metadata": {},
   "outputs": [
    {
     "data": {
      "text/plain": [
       "'Elf'"
      ]
     },
     "execution_count": 4,
     "metadata": {},
     "output_type": "execute_result"
    }
   ],
   "source": [
    "c = Character()\n",
    "c.race"
   ]
  },
  {
   "cell_type": "markdown",
   "id": "451ef847",
   "metadata": {},
   "source": [
    "## Singleton"
   ]
  },
  {
   "cell_type": "code",
   "execution_count": 6,
   "id": "3a12bbdd",
   "metadata": {},
   "outputs": [],
   "source": [
    "class Character:\n",
    "    \n",
    "    _instance = None\n",
    "    \n",
    "    def __new__(cls):\n",
    "        if not cls._instance:\n",
    "            cls._instance = super().__new__(cls)\n",
    "        return cls._instance\n",
    "    \n",
    "    def __init__(self):\n",
    "        self.race = 'Elf'"
   ]
  },
  {
   "cell_type": "code",
   "execution_count": 7,
   "id": "67e10741",
   "metadata": {},
   "outputs": [
    {
     "data": {
      "text/plain": [
       "'Elf'"
      ]
     },
     "execution_count": 7,
     "metadata": {},
     "output_type": "execute_result"
    }
   ],
   "source": [
    "c = Character()\n",
    "c.race"
   ]
  },
  {
   "cell_type": "code",
   "execution_count": 8,
   "id": "750acecc",
   "metadata": {},
   "outputs": [],
   "source": [
    "d = Character()\n",
    "d.race = 'Ork'"
   ]
  },
  {
   "cell_type": "code",
   "execution_count": 9,
   "id": "a28e26e7",
   "metadata": {},
   "outputs": [
    {
     "name": "stdout",
     "output_type": "stream",
     "text": [
      "Ork\n",
      "Ork\n"
     ]
    }
   ],
   "source": [
    "print(c.race)\n",
    "print(d.race)"
   ]
  },
  {
   "cell_type": "code",
   "execution_count": 10,
   "id": "51b42448",
   "metadata": {},
   "outputs": [
    {
     "name": "stdout",
     "output_type": "stream",
     "text": [
      "2350161714144\n",
      "2350161714144\n"
     ]
    }
   ],
   "source": [
    "print(id(c))\n",
    "print(id(d))"
   ]
  },
  {
   "cell_type": "code",
   "execution_count": null,
   "id": "937b00c2",
   "metadata": {},
   "outputs": [],
   "source": []
  }
 ],
 "metadata": {
  "kernelspec": {
   "display_name": "Python 3 (ipykernel)",
   "language": "python",
   "name": "python3"
  },
  "language_info": {
   "codemirror_mode": {
    "name": "ipython",
    "version": 3
   },
   "file_extension": ".py",
   "mimetype": "text/x-python",
   "name": "python",
   "nbconvert_exporter": "python",
   "pygments_lexer": "ipython3",
   "version": "3.9.13"
  }
 },
 "nbformat": 4,
 "nbformat_minor": 5
}
