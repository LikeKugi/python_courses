{
 "cells": [
  {
   "cell_type": "code",
   "execution_count": 1,
   "id": "f3fe6322",
   "metadata": {},
   "outputs": [],
   "source": [
    "import json"
   ]
  },
  {
   "cell_type": "code",
   "execution_count": 2,
   "id": "ef623b56",
   "metadata": {},
   "outputs": [],
   "source": [
    "class Tournament:\n",
    "    \n",
    "    def __init__(self, name, year):\n",
    "        self.name = name\n",
    "        self.year = year"
   ]
  },
  {
   "cell_type": "code",
   "execution_count": 3,
   "id": "b03278bd",
   "metadata": {},
   "outputs": [],
   "source": [
    "tournaments = {\n",
    "    'Aeroflot Open': 2010,\n",
    "    'FIDE World Cup': 2018,\n",
    "    'FIDE Grand Prix': 2016\n",
    "}"
   ]
  },
  {
   "cell_type": "markdown",
   "id": "d833b1b2",
   "metadata": {},
   "source": [
    "## Serialization"
   ]
  },
  {
   "cell_type": "code",
   "execution_count": 4,
   "id": "b1c5c217",
   "metadata": {
    "scrolled": true
   },
   "outputs": [
    {
     "name": "stdout",
     "output_type": "stream",
     "text": [
      "{\n",
      "  \"Aeroflot Open\": 2010,\n",
      "  \"FIDE World Cup\": 2018,\n",
      "  \"FIDE Grand Prix\": 2016\n",
      "}\n"
     ]
    }
   ],
   "source": [
    "json_data = json.dumps(tournaments, indent=2)\n",
    "print(json_data)"
   ]
  },
  {
   "cell_type": "markdown",
   "id": "ea454b91",
   "metadata": {},
   "source": [
    "## Deserialization"
   ]
  },
  {
   "cell_type": "code",
   "execution_count": 5,
   "id": "ab816c60",
   "metadata": {},
   "outputs": [
    {
     "name": "stdout",
     "output_type": "stream",
     "text": [
      "{'Aeroflot Open': 2010, 'FIDE World Cup': 2018, 'FIDE Grand Prix': 2016}\n"
     ]
    }
   ],
   "source": [
    "loaded = json.loads(json_data)\n",
    "print(loaded)"
   ]
  },
  {
   "cell_type": "markdown",
   "id": "812c4d53",
   "metadata": {},
   "source": [
    "___"
   ]
  },
  {
   "cell_type": "code",
   "execution_count": null,
   "id": "2cee70d0",
   "metadata": {},
   "outputs": [],
   "source": []
  }
 ],
 "metadata": {
  "kernelspec": {
   "display_name": "Python 3 (ipykernel)",
   "language": "python",
   "name": "python3"
  },
  "language_info": {
   "codemirror_mode": {
    "name": "ipython",
    "version": 3
   },
   "file_extension": ".py",
   "mimetype": "text/x-python",
   "name": "python",
   "nbconvert_exporter": "python",
   "pygments_lexer": "ipython3",
   "version": "3.9.13"
  }
 },
 "nbformat": 4,
 "nbformat_minor": 5
}
