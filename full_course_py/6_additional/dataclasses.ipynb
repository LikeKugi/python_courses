{
 "cells": [
  {
   "cell_type": "code",
   "execution_count": 1,
   "id": "a5bf91d8",
   "metadata": {},
   "outputs": [],
   "source": [
    "class Question:\n",
    "    \n",
    "    def __init__(self, text, is_true, explanation):\n",
    "        self.text = text\n",
    "        self.is_true = is_true\n",
    "        self.explanation = explanation"
   ]
  },
  {
   "cell_type": "code",
   "execution_count": 2,
   "id": "e3302904",
   "metadata": {},
   "outputs": [],
   "source": [
    "from dataclasses import dataclass\n",
    "\n",
    "@dataclass\n",
    "class MyQuestion:\n",
    "    text: str\n",
    "    is_true: bool\n",
    "    explanation: str"
   ]
  },
  {
   "cell_type": "code",
   "execution_count": 3,
   "id": "1f41a911",
   "metadata": {},
   "outputs": [
    {
     "data": {
      "text/plain": [
       "'test'"
      ]
     },
     "execution_count": 3,
     "metadata": {},
     "output_type": "execute_result"
    }
   ],
   "source": [
    "q = MyQuestion('test', True, 'because')\n",
    "q.text"
   ]
  },
  {
   "cell_type": "markdown",
   "id": "9b969e20",
   "metadata": {},
   "source": [
    "## Default values:"
   ]
  },
  {
   "cell_type": "code",
   "execution_count": 12,
   "id": "ca6e1597",
   "metadata": {},
   "outputs": [],
   "source": [
    "@dataclass\n",
    "class DefaultQuestion:\n",
    "    text: str = ''\n",
    "    is_true: bool = True\n",
    "    explanation: str = ''"
   ]
  },
  {
   "cell_type": "code",
   "execution_count": 13,
   "id": "2311385b",
   "metadata": {},
   "outputs": [],
   "source": [
    "q = DefaultQuestion()"
   ]
  },
  {
   "cell_type": "code",
   "execution_count": 14,
   "id": "8cf382d9",
   "metadata": {},
   "outputs": [
    {
     "data": {
      "text/plain": [
       "''"
      ]
     },
     "execution_count": 14,
     "metadata": {},
     "output_type": "execute_result"
    }
   ],
   "source": [
    "q.text"
   ]
  },
  {
   "cell_type": "code",
   "execution_count": 16,
   "id": "94b24e48",
   "metadata": {},
   "outputs": [
    {
     "name": "stdout",
     "output_type": "stream",
     "text": [
      "text\n"
     ]
    }
   ],
   "source": [
    "q.text = 'text'\n",
    "print(q.text)"
   ]
  },
  {
   "cell_type": "markdown",
   "id": "482b43de",
   "metadata": {},
   "source": [
    "## Immutable dataclass"
   ]
  },
  {
   "cell_type": "code",
   "execution_count": 17,
   "id": "3e048fa6",
   "metadata": {},
   "outputs": [],
   "source": [
    "@dataclass(frozen=True)\n",
    "class DefaultQuestion:\n",
    "    text: str = 'test_text'\n",
    "    is_true: bool = True\n",
    "    explanation: str = 'because'"
   ]
  },
  {
   "cell_type": "code",
   "execution_count": 18,
   "id": "93e27435",
   "metadata": {},
   "outputs": [],
   "source": [
    "q = DefaultQuestion()"
   ]
  },
  {
   "cell_type": "code",
   "execution_count": 19,
   "id": "f03d2921",
   "metadata": {},
   "outputs": [
    {
     "ename": "FrozenInstanceError",
     "evalue": "cannot assign to field 'text'",
     "output_type": "error",
     "traceback": [
      "\u001b[1;31m---------------------------------------------------------------------------\u001b[0m",
      "\u001b[1;31mFrozenInstanceError\u001b[0m                       Traceback (most recent call last)",
      "\u001b[1;32m~\\AppData\\Local\\Temp\\ipykernel_520\\1747313342.py\u001b[0m in \u001b[0;36m<module>\u001b[1;34m\u001b[0m\n\u001b[1;32m----> 1\u001b[1;33m \u001b[0mq\u001b[0m\u001b[1;33m.\u001b[0m\u001b[0mtext\u001b[0m \u001b[1;33m=\u001b[0m \u001b[1;34m'change'\u001b[0m\u001b[1;33m\u001b[0m\u001b[1;33m\u001b[0m\u001b[0m\n\u001b[0m",
      "\u001b[1;32m<string>\u001b[0m in \u001b[0;36m__setattr__\u001b[1;34m(self, name, value)\u001b[0m\n",
      "\u001b[1;31mFrozenInstanceError\u001b[0m: cannot assign to field 'text'"
     ]
    }
   ],
   "source": [
    "q.text = 'change'"
   ]
  },
  {
   "cell_type": "code",
   "execution_count": null,
   "id": "31e8f303",
   "metadata": {},
   "outputs": [],
   "source": []
  }
 ],
 "metadata": {
  "kernelspec": {
   "display_name": "Python 3 (ipykernel)",
   "language": "python",
   "name": "python3"
  },
  "language_info": {
   "codemirror_mode": {
    "name": "ipython",
    "version": 3
   },
   "file_extension": ".py",
   "mimetype": "text/x-python",
   "name": "python",
   "nbconvert_exporter": "python",
   "pygments_lexer": "ipython3",
   "version": "3.9.13"
  }
 },
 "nbformat": 4,
 "nbformat_minor": 5
}
