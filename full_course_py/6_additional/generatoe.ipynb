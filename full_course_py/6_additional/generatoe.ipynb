{
 "cells": [
  {
   "cell_type": "code",
   "execution_count": 5,
   "id": "f3fe6322",
   "metadata": {},
   "outputs": [],
   "source": [
    "import random\n",
    "import itertools"
   ]
  },
  {
   "cell_type": "code",
   "execution_count": 2,
   "id": "349d60bb",
   "metadata": {},
   "outputs": [],
   "source": [
    "def randoms(min, max):\n",
    "    while True:\n",
    "        yield random.randint(min, max)"
   ]
  },
  {
   "cell_type": "code",
   "execution_count": 3,
   "id": "f0f87d7f",
   "metadata": {},
   "outputs": [],
   "source": [
    "rand_sequence = randoms(1, 10000000)"
   ]
  },
  {
   "cell_type": "code",
   "execution_count": 7,
   "id": "5331af96",
   "metadata": {},
   "outputs": [
    {
     "name": "stdout",
     "output_type": "stream",
     "text": [
      "[6575551, 2300553, 9511216, 5347577, 5090206]\n"
     ]
    }
   ],
   "source": [
    "five_taken = list(itertools.islice(rand_sequence, 5))\n",
    "print(five_taken)"
   ]
  },
  {
   "cell_type": "code",
   "execution_count": null,
   "id": "5feb0789",
   "metadata": {},
   "outputs": [],
   "source": []
  }
 ],
 "metadata": {
  "kernelspec": {
   "display_name": "Python 3 (ipykernel)",
   "language": "python",
   "name": "python3"
  },
  "language_info": {
   "codemirror_mode": {
    "name": "ipython",
    "version": 3
   },
   "file_extension": ".py",
   "mimetype": "text/x-python",
   "name": "python",
   "nbconvert_exporter": "python",
   "pygments_lexer": "ipython3",
   "version": "3.9.13"
  }
 },
 "nbformat": 4,
 "nbformat_minor": 5
}
