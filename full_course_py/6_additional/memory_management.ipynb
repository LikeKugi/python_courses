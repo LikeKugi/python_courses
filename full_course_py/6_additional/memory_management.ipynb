{
 "cells": [
  {
   "cell_type": "code",
   "execution_count": 1,
   "id": "4b3f7284",
   "metadata": {},
   "outputs": [],
   "source": [
    "x = 100\n"
   ]
  },
  {
   "cell_type": "code",
   "execution_count": 2,
   "id": "ff90845e",
   "metadata": {},
   "outputs": [],
   "source": [
    "y = 100"
   ]
  },
  {
   "cell_type": "code",
   "execution_count": 3,
   "id": "7ffcf9b7",
   "metadata": {},
   "outputs": [
    {
     "data": {
      "text/plain": [
       "True"
      ]
     },
     "execution_count": 3,
     "metadata": {},
     "output_type": "execute_result"
    }
   ],
   "source": [
    "x == y"
   ]
  },
  {
   "cell_type": "code",
   "execution_count": 4,
   "id": "dbf6b206",
   "metadata": {},
   "outputs": [
    {
     "data": {
      "text/plain": [
       "True"
      ]
     },
     "execution_count": 4,
     "metadata": {},
     "output_type": "execute_result"
    }
   ],
   "source": [
    "x is y"
   ]
  },
  {
   "cell_type": "code",
   "execution_count": 5,
   "id": "3ee236ca",
   "metadata": {},
   "outputs": [],
   "source": [
    "z = [100, 100]"
   ]
  },
  {
   "cell_type": "code",
   "execution_count": 6,
   "id": "0ef4f090",
   "metadata": {},
   "outputs": [
    {
     "name": "stdout",
     "output_type": "stream",
     "text": [
      "True\n",
      "True\n"
     ]
    }
   ],
   "source": [
    "print(z[0] is x)\n",
    "print(z[1] is y)"
   ]
  },
  {
   "cell_type": "code",
   "execution_count": 7,
   "id": "3bf02861",
   "metadata": {},
   "outputs": [],
   "source": [
    "a = 999"
   ]
  },
  {
   "cell_type": "code",
   "execution_count": 8,
   "id": "2272e151",
   "metadata": {},
   "outputs": [],
   "source": [
    "b = 999"
   ]
  },
  {
   "cell_type": "code",
   "execution_count": 9,
   "id": "2da2fe7d",
   "metadata": {},
   "outputs": [
    {
     "data": {
      "text/plain": [
       "True"
      ]
     },
     "execution_count": 9,
     "metadata": {},
     "output_type": "execute_result"
    }
   ],
   "source": [
    "a == b"
   ]
  },
  {
   "cell_type": "code",
   "execution_count": 10,
   "id": "9e4b68c4",
   "metadata": {},
   "outputs": [
    {
     "data": {
      "text/plain": [
       "False"
      ]
     },
     "execution_count": 10,
     "metadata": {},
     "output_type": "execute_result"
    }
   ],
   "source": [
    "a is b"
   ]
  },
  {
   "cell_type": "code",
   "execution_count": 11,
   "id": "bb052ad9",
   "metadata": {},
   "outputs": [
    {
     "name": "stdout",
     "output_type": "stream",
     "text": [
      "x: 2403093075408\n",
      "y: 2403093075408\n",
      "a: 2403176398000\n",
      "b: 2403176398224\n"
     ]
    }
   ],
   "source": [
    "print(f'x: {id(x)}')\n",
    "print(f'y: {id(y)}')\n",
    "print(f'a: {id(a)}')\n",
    "print(f'b: {id(b)}')"
   ]
  },
  {
   "cell_type": "code",
   "execution_count": null,
   "id": "18882998",
   "metadata": {},
   "outputs": [],
   "source": []
  }
 ],
 "metadata": {
  "kernelspec": {
   "display_name": "Python 3 (ipykernel)",
   "language": "python",
   "name": "python3"
  },
  "language_info": {
   "codemirror_mode": {
    "name": "ipython",
    "version": 3
   },
   "file_extension": ".py",
   "mimetype": "text/x-python",
   "name": "python",
   "nbconvert_exporter": "python",
   "pygments_lexer": "ipython3",
   "version": "3.9.13"
  }
 },
 "nbformat": 4,
 "nbformat_minor": 5
}
