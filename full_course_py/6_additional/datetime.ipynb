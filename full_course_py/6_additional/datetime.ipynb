{
 "cells": [
  {
   "cell_type": "code",
   "execution_count": 1,
   "id": "a50672ff",
   "metadata": {},
   "outputs": [],
   "source": [
    "from datetime import datetime, date, time, timedelta"
   ]
  },
  {
   "cell_type": "code",
   "execution_count": 2,
   "id": "39e4d711",
   "metadata": {},
   "outputs": [
    {
     "name": "stdout",
     "output_type": "stream",
     "text": [
      "2019-03-12\n",
      "2019\n",
      "3\n",
      "12\n"
     ]
    }
   ],
   "source": [
    "d1 = date(2019, 3, 12)  #  YYYY, MM, DD\n",
    "print(d1)\n",
    "print(d1.year)\n",
    "print(d1.month)\n",
    "print(d1.day)"
   ]
  },
  {
   "cell_type": "code",
   "execution_count": 3,
   "id": "64c2c80b",
   "metadata": {},
   "outputs": [
    {
     "name": "stdout",
     "output_type": "stream",
     "text": [
      "23:10:59\n",
      "23\n",
      "10\n",
      "59\n"
     ]
    }
   ],
   "source": [
    "t1 = time(23, 10, 59)  # HH, MM, SS\n",
    "print(t1)\n",
    "print(t1.hour)\n",
    "print(t1.minute)\n",
    "print(t1.second)"
   ]
  },
  {
   "cell_type": "code",
   "execution_count": 4,
   "id": "25555701",
   "metadata": {},
   "outputs": [
    {
     "name": "stdout",
     "output_type": "stream",
     "text": [
      "2022-11-16\n"
     ]
    }
   ],
   "source": [
    "print(date.today())"
   ]
  },
  {
   "cell_type": "code",
   "execution_count": 5,
   "id": "f51e11a5",
   "metadata": {},
   "outputs": [
    {
     "name": "stdout",
     "output_type": "stream",
     "text": [
      "9999-12-31\n",
      "0001-01-01\n",
      "\n",
      "23:59:59.999999\n",
      "00:00:00\n"
     ]
    }
   ],
   "source": [
    "print(date.max)\n",
    "print(date.min)\n",
    "print()\n",
    "print(time.max)\n",
    "print(time.min)"
   ]
  },
  {
   "cell_type": "code",
   "execution_count": 6,
   "id": "952facc5",
   "metadata": {},
   "outputs": [],
   "source": [
    "dt = datetime(2019, 3, 12, 15, 17)"
   ]
  },
  {
   "cell_type": "code",
   "execution_count": 7,
   "id": "86ed2cc8",
   "metadata": {},
   "outputs": [
    {
     "name": "stdout",
     "output_type": "stream",
     "text": [
      "2019-03-12 15:17:00\n"
     ]
    }
   ],
   "source": [
    "print(dt)"
   ]
  },
  {
   "cell_type": "code",
   "execution_count": 8,
   "id": "cf50ba95",
   "metadata": {},
   "outputs": [
    {
     "name": "stdout",
     "output_type": "stream",
     "text": [
      "2019\n",
      "15\n"
     ]
    }
   ],
   "source": [
    "print(dt.date().year)\n",
    "print(dt.time().hour)"
   ]
  },
  {
   "cell_type": "code",
   "execution_count": 9,
   "id": "13bf6fe0",
   "metadata": {},
   "outputs": [
    {
     "name": "stdout",
     "output_type": "stream",
     "text": [
      "9999-12-31 23:59:59.999999\n",
      "0001-01-01 00:00:00\n"
     ]
    }
   ],
   "source": [
    "print(datetime.max)\n",
    "print(datetime.min)"
   ]
  },
  {
   "cell_type": "code",
   "execution_count": 10,
   "id": "651d9e3e",
   "metadata": {},
   "outputs": [
    {
     "name": "stdout",
     "output_type": "stream",
     "text": [
      "2022-11-16 19:41:28.309472\n"
     ]
    }
   ],
   "source": [
    "current = datetime.now()\n",
    "print(current)"
   ]
  },
  {
   "cell_type": "code",
   "execution_count": 11,
   "id": "0062f199",
   "metadata": {},
   "outputs": [
    {
     "name": "stdout",
     "output_type": "stream",
     "text": [
      "2022\n"
     ]
    }
   ],
   "source": [
    "print(current.year)"
   ]
  },
  {
   "cell_type": "code",
   "execution_count": 13,
   "id": "7402ca94",
   "metadata": {},
   "outputs": [
    {
     "name": "stdout",
     "output_type": "stream",
     "text": [
      "2018-11-16 19:41:28.309472\n"
     ]
    }
   ],
   "source": [
    "new_dt = current.replace(year=2018)\n",
    "print(new_dt)"
   ]
  },
  {
   "cell_type": "markdown",
   "id": "373d43af",
   "metadata": {},
   "source": [
    "## parse daytime"
   ]
  },
  {
   "cell_type": "code",
   "execution_count": 14,
   "id": "9dd667de",
   "metadata": {},
   "outputs": [
    {
     "name": "stdout",
     "output_type": "stream",
     "text": [
      "2018-08-30 00:00:00\n",
      "2018-03-29 10:40:00\n",
      "2018-06-28 09:20:00\n",
      "2018-06-28 00:00:00\n"
     ]
    }
   ],
   "source": [
    "dt = datetime.strptime(\"30/08/2018\", \"%d/%m/%Y\")  # d=day DD, m=month MM, Y=year YYYY\n",
    "print(dt)\n",
    "\n",
    "dt = datetime.strptime(\"29/03/2018 10:40\", \"%d/%m/%Y %H:%M\")\n",
    "print(dt)\n",
    "\n",
    "dt = datetime.strptime(\"06-28-2018 09:20\", \"%m-%d-%Y %H:%M\")\n",
    "print(dt)\n",
    "\n",
    "dt = datetime.strptime(\"2018-06-28\", \"%Y-%m-%d\")\n",
    "print(dt)"
   ]
  },
  {
   "cell_type": "code",
   "execution_count": 16,
   "id": "fa17b48c",
   "metadata": {},
   "outputs": [
    {
     "data": {
      "text/plain": [
       "'Russian_Russia.1251'"
      ]
     },
     "execution_count": 16,
     "metadata": {},
     "output_type": "execute_result"
    }
   ],
   "source": [
    "import locale\n",
    "locale.setlocale(locale.LC_ALL,\"\")"
   ]
  },
  {
   "cell_type": "code",
   "execution_count": 19,
   "id": "fb723015",
   "metadata": {},
   "outputs": [
    {
     "name": "stdout",
     "output_type": "stream",
     "text": [
      "2022-11-16 (Ср)\n",
      "2022 Ноябрь 16 xbckj (среда)\n"
     ]
    }
   ],
   "source": [
    "now = datetime.now()\n",
    "\n",
    "print(now.strftime('%Y-%m-%d (%a)'))\n",
    "print(now.strftime('%Y %B %d xbckj (%A)'))"
   ]
  },
  {
   "cell_type": "markdown",
   "id": "a3f5e7d8",
   "metadata": {},
   "source": [
    "## delta"
   ]
  },
  {
   "cell_type": "code",
   "execution_count": 20,
   "id": "0eb6b0c4",
   "metadata": {},
   "outputs": [
    {
     "name": "stdout",
     "output_type": "stream",
     "text": [
      "3 days, 2:10:00\n"
     ]
    }
   ],
   "source": [
    "delta1 = timedelta(days=3, hours=2, minutes=10)\n",
    "print(delta1)"
   ]
  },
  {
   "cell_type": "code",
   "execution_count": 22,
   "id": "63dd94c6",
   "metadata": {},
   "outputs": [
    {
     "name": "stdout",
     "output_type": "stream",
     "text": [
      "2 days, 1:05:00\n"
     ]
    }
   ],
   "source": [
    "delta2 = timedelta(days=2, hours=1, minutes=5)\n",
    "print(delta2)"
   ]
  },
  {
   "cell_type": "code",
   "execution_count": 23,
   "id": "a0ece8c1",
   "metadata": {},
   "outputs": [
    {
     "name": "stdout",
     "output_type": "stream",
     "text": [
      "1 day, 1:05:00\n",
      "-2 days, 22:55:00\n"
     ]
    }
   ],
   "source": [
    "print(delta1 - delta2)\n",
    "print(delta2 - delta1)"
   ]
  },
  {
   "cell_type": "code",
   "execution_count": 29,
   "id": "9987591a",
   "metadata": {},
   "outputs": [
    {
     "name": "stdout",
     "output_type": "stream",
     "text": [
      "46 days, 0:00:00\n"
     ]
    }
   ],
   "source": [
    "now = datetime.now()\n",
    "new_year = date(now.year+1, 1, 1)\n",
    "delta = new_year - date.today()\n",
    "print(delta)"
   ]
  },
  {
   "cell_type": "code",
   "execution_count": null,
   "id": "3eb862dc",
   "metadata": {},
   "outputs": [],
   "source": []
  }
 ],
 "metadata": {
  "kernelspec": {
   "display_name": "Python 3 (ipykernel)",
   "language": "python",
   "name": "python3"
  },
  "language_info": {
   "codemirror_mode": {
    "name": "ipython",
    "version": 3
   },
   "file_extension": ".py",
   "mimetype": "text/x-python",
   "name": "python",
   "nbconvert_exporter": "python",
   "pygments_lexer": "ipython3",
   "version": "3.9.13"
  }
 },
 "nbformat": 4,
 "nbformat_minor": 5
}
