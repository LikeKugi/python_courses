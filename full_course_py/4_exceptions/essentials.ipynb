{
 "cells": [
  {
   "cell_type": "code",
   "execution_count": 1,
   "id": "84f56cc0",
   "metadata": {},
   "outputs": [],
   "source": [
    "def divide(a:int, b:int) -> float:\n",
    "    return a / b"
   ]
  },
  {
   "cell_type": "code",
   "execution_count": 2,
   "id": "f663452a",
   "metadata": {},
   "outputs": [
    {
     "data": {
      "text/plain": [
       "2.0"
      ]
     },
     "execution_count": 2,
     "metadata": {},
     "output_type": "execute_result"
    }
   ],
   "source": [
    "divide(4, 2)"
   ]
  },
  {
   "cell_type": "code",
   "execution_count": 3,
   "id": "2c17ed1a",
   "metadata": {},
   "outputs": [
    {
     "ename": "ZeroDivisionError",
     "evalue": "division by zero",
     "output_type": "error",
     "traceback": [
      "\u001b[1;31m---------------------------------------------------------------------------\u001b[0m",
      "\u001b[1;31mZeroDivisionError\u001b[0m                         Traceback (most recent call last)",
      "\u001b[1;32m~\\AppData\\Local\\Temp\\ipykernel_15340\\2414659046.py\u001b[0m in \u001b[0;36m<module>\u001b[1;34m\u001b[0m\n\u001b[1;32m----> 1\u001b[1;33m \u001b[0mdivide\u001b[0m\u001b[1;33m(\u001b[0m\u001b[1;36m4\u001b[0m\u001b[1;33m,\u001b[0m \u001b[1;36m0\u001b[0m\u001b[1;33m)\u001b[0m  \u001b[1;31m# Exception\u001b[0m\u001b[1;33m\u001b[0m\u001b[1;33m\u001b[0m\u001b[0m\n\u001b[0m",
      "\u001b[1;32m~\\AppData\\Local\\Temp\\ipykernel_15340\\506345443.py\u001b[0m in \u001b[0;36mdivide\u001b[1;34m(a, b)\u001b[0m\n\u001b[0;32m      1\u001b[0m \u001b[1;32mdef\u001b[0m \u001b[0mdivide\u001b[0m\u001b[1;33m(\u001b[0m\u001b[0ma\u001b[0m\u001b[1;33m:\u001b[0m\u001b[0mint\u001b[0m\u001b[1;33m,\u001b[0m \u001b[0mb\u001b[0m\u001b[1;33m:\u001b[0m\u001b[0mint\u001b[0m\u001b[1;33m)\u001b[0m \u001b[1;33m->\u001b[0m \u001b[0mfloat\u001b[0m\u001b[1;33m:\u001b[0m\u001b[1;33m\u001b[0m\u001b[1;33m\u001b[0m\u001b[0m\n\u001b[1;32m----> 2\u001b[1;33m     \u001b[1;32mreturn\u001b[0m \u001b[0ma\u001b[0m \u001b[1;33m/\u001b[0m \u001b[0mb\u001b[0m\u001b[1;33m\u001b[0m\u001b[1;33m\u001b[0m\u001b[0m\n\u001b[0m",
      "\u001b[1;31mZeroDivisionError\u001b[0m: division by zero"
     ]
    }
   ],
   "source": [
    "divide(4, 0)  # Exception"
   ]
  },
  {
   "cell_type": "code",
   "execution_count": 5,
   "id": "4b3a2892",
   "metadata": {},
   "outputs": [],
   "source": [
    "def divide(a:float, b:float) -> float:\n",
    "    try:\n",
    "        return a / b\n",
    "    except ZeroDivisionError as ex:\n",
    "        return f'Exception {ex}'"
   ]
  },
  {
   "cell_type": "code",
   "execution_count": 6,
   "id": "133d92b9",
   "metadata": {},
   "outputs": [
    {
     "data": {
      "text/plain": [
       "2.0"
      ]
     },
     "execution_count": 6,
     "metadata": {},
     "output_type": "execute_result"
    }
   ],
   "source": [
    "divide(4,2)"
   ]
  },
  {
   "cell_type": "code",
   "execution_count": 7,
   "id": "af22ea9e",
   "metadata": {},
   "outputs": [
    {
     "data": {
      "text/plain": [
       "'Exception division by zero'"
      ]
     },
     "execution_count": 7,
     "metadata": {},
     "output_type": "execute_result"
    }
   ],
   "source": [
    "divide(4,0)"
   ]
  },
  {
   "cell_type": "code",
   "execution_count": 8,
   "id": "3e893be6",
   "metadata": {},
   "outputs": [
    {
     "ename": "TypeError",
     "evalue": "unsupported operand type(s) for /: 'str' and 'int'",
     "output_type": "error",
     "traceback": [
      "\u001b[1;31m---------------------------------------------------------------------------\u001b[0m",
      "\u001b[1;31mTypeError\u001b[0m                                 Traceback (most recent call last)",
      "\u001b[1;32m~\\AppData\\Local\\Temp\\ipykernel_15340\\2992009139.py\u001b[0m in \u001b[0;36m<module>\u001b[1;34m\u001b[0m\n\u001b[1;32m----> 1\u001b[1;33m \u001b[0mdivide\u001b[0m\u001b[1;33m(\u001b[0m\u001b[1;34m'1'\u001b[0m\u001b[1;33m,\u001b[0m\u001b[1;36m2\u001b[0m\u001b[1;33m)\u001b[0m\u001b[1;33m\u001b[0m\u001b[1;33m\u001b[0m\u001b[0m\n\u001b[0m",
      "\u001b[1;32m~\\AppData\\Local\\Temp\\ipykernel_15340\\401779736.py\u001b[0m in \u001b[0;36mdivide\u001b[1;34m(a, b)\u001b[0m\n\u001b[0;32m      1\u001b[0m \u001b[1;32mdef\u001b[0m \u001b[0mdivide\u001b[0m\u001b[1;33m(\u001b[0m\u001b[0ma\u001b[0m\u001b[1;33m:\u001b[0m\u001b[0mfloat\u001b[0m\u001b[1;33m,\u001b[0m \u001b[0mb\u001b[0m\u001b[1;33m:\u001b[0m\u001b[0mfloat\u001b[0m\u001b[1;33m)\u001b[0m \u001b[1;33m->\u001b[0m \u001b[0mfloat\u001b[0m\u001b[1;33m:\u001b[0m\u001b[1;33m\u001b[0m\u001b[1;33m\u001b[0m\u001b[0m\n\u001b[0;32m      2\u001b[0m     \u001b[1;32mtry\u001b[0m\u001b[1;33m:\u001b[0m\u001b[1;33m\u001b[0m\u001b[1;33m\u001b[0m\u001b[0m\n\u001b[1;32m----> 3\u001b[1;33m         \u001b[1;32mreturn\u001b[0m \u001b[0ma\u001b[0m \u001b[1;33m/\u001b[0m \u001b[0mb\u001b[0m\u001b[1;33m\u001b[0m\u001b[1;33m\u001b[0m\u001b[0m\n\u001b[0m\u001b[0;32m      4\u001b[0m     \u001b[1;32mexcept\u001b[0m \u001b[0mZeroDivisionError\u001b[0m \u001b[1;32mas\u001b[0m \u001b[0mex\u001b[0m\u001b[1;33m:\u001b[0m\u001b[1;33m\u001b[0m\u001b[1;33m\u001b[0m\u001b[0m\n\u001b[0;32m      5\u001b[0m         \u001b[1;32mreturn\u001b[0m \u001b[1;34mf'Exception {ex}'\u001b[0m\u001b[1;33m\u001b[0m\u001b[1;33m\u001b[0m\u001b[0m\n",
      "\u001b[1;31mTypeError\u001b[0m: unsupported operand type(s) for /: 'str' and 'int'"
     ]
    }
   ],
   "source": [
    "divide('1',2)"
   ]
  },
  {
   "cell_type": "code",
   "execution_count": 9,
   "id": "1ddac940",
   "metadata": {},
   "outputs": [],
   "source": [
    "def divide(a:float, b:float) -> float:\n",
    "    try:\n",
    "        return a / b\n",
    "    except ZeroDivisionError as ex:\n",
    "        return f'Exception {ex}'\n",
    "    except TypeError as ex:\n",
    "        return f'Exception {ex}'"
   ]
  },
  {
   "cell_type": "code",
   "execution_count": 10,
   "id": "9fdae88b",
   "metadata": {},
   "outputs": [
    {
     "data": {
      "text/plain": [
       "\"Exception unsupported operand type(s) for /: 'str' and 'int'\""
      ]
     },
     "execution_count": 10,
     "metadata": {},
     "output_type": "execute_result"
    }
   ],
   "source": [
    "divide('1',2)"
   ]
  },
  {
   "cell_type": "code",
   "execution_count": 11,
   "id": "872f7c31",
   "metadata": {},
   "outputs": [],
   "source": [
    "def divide(a:float, b:float) -> float:\n",
    "    try:\n",
    "        return a / b\n",
    "    except ZeroDivisionError as ex:\n",
    "        return f'Exception {ex}'\n",
    "    except TypeError as ex:\n",
    "        return f'Exception {ex}'\n",
    "    except Exception as ex:  #  all other types of exceptions\n",
    "        return f'Unknown exception {ex}'"
   ]
  },
  {
   "cell_type": "code",
   "execution_count": 13,
   "id": "97bbe3b2",
   "metadata": {},
   "outputs": [
    {
     "data": {
      "text/plain": [
       "\"Exception unsupported operand type(s) for /: 'str' and 'int'\""
      ]
     },
     "execution_count": 13,
     "metadata": {},
     "output_type": "execute_result"
    }
   ],
   "source": [
    "divide('q',0)"
   ]
  },
  {
   "cell_type": "code",
   "execution_count": 14,
   "id": "1b97a2b0",
   "metadata": {},
   "outputs": [
    {
     "data": {
      "text/plain": [
       "\"Exception unsupported operand type(s) for /: 'list' and 'tuple'\""
      ]
     },
     "execution_count": 14,
     "metadata": {},
     "output_type": "execute_result"
    }
   ],
   "source": [
    "divide(['10,2'],('as',))"
   ]
  },
  {
   "cell_type": "code",
   "execution_count": 17,
   "id": "36a3de26",
   "metadata": {},
   "outputs": [],
   "source": [
    "def reader_file():\n",
    "    try:\n",
    "        with open('data.txt') as inf:\n",
    "            data = inf.read()\n",
    "    except FileNotFoundError:\n",
    "        print(\"File wasn't find\")\n",
    "    except:\n",
    "        print('exception')\n",
    "    else:\n",
    "        print(\"It's all OK with the file\")  # no exceptions were\n",
    "    finally:\n",
    "        #  clearing resourses. anyway goes to this block\n",
    "        print('anyway comes here')"
   ]
  },
  {
   "cell_type": "code",
   "execution_count": 18,
   "id": "24a45638",
   "metadata": {},
   "outputs": [
    {
     "name": "stdout",
     "output_type": "stream",
     "text": [
      "File wasn't find\n",
      "anyway comes here\n"
     ]
    }
   ],
   "source": [
    "reader_file()"
   ]
  },
  {
   "cell_type": "code",
   "execution_count": null,
   "id": "abbf2069",
   "metadata": {},
   "outputs": [],
   "source": []
  }
 ],
 "metadata": {
  "kernelspec": {
   "display_name": "Python 3 (ipykernel)",
   "language": "python",
   "name": "python3"
  },
  "language_info": {
   "codemirror_mode": {
    "name": "ipython",
    "version": 3
   },
   "file_extension": ".py",
   "mimetype": "text/x-python",
   "name": "python",
   "nbconvert_exporter": "python",
   "pygments_lexer": "ipython3",
   "version": "3.9.13"
  }
 },
 "nbformat": 4,
 "nbformat_minor": 5
}
