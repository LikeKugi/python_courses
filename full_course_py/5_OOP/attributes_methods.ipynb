{
 "cells": [
  {
   "cell_type": "code",
   "execution_count": 1,
   "id": "3a79c04f",
   "metadata": {},
   "outputs": [],
   "source": [
    "class Character:\n",
    "    max_speed = 100\n",
    "    dead_health = 0\n",
    "    \n",
    "    def __init__(self, race, damage=10, armor=20):\n",
    "        self.race = race\n",
    "        self.damage = damage\n",
    "        self.armor = armor"
   ]
  },
  {
   "cell_type": "code",
   "execution_count": 2,
   "id": "7f4dc7a6",
   "metadata": {},
   "outputs": [],
   "source": [
    "unit_ork = Character('Ork, 30, 5')"
   ]
  },
  {
   "cell_type": "code",
   "execution_count": 3,
   "id": "494554e5",
   "metadata": {},
   "outputs": [
    {
     "name": "stdout",
     "output_type": "stream",
     "text": [
      "100\n"
     ]
    }
   ],
   "source": [
    "print(Character.max_speed)"
   ]
  },
  {
   "cell_type": "code",
   "execution_count": 4,
   "id": "9eb7fd34",
   "metadata": {},
   "outputs": [
    {
     "name": "stdout",
     "output_type": "stream",
     "text": [
      "100\n"
     ]
    }
   ],
   "source": [
    "print(unit_ork.max_speed)"
   ]
  },
  {
   "cell_type": "code",
   "execution_count": 10,
   "id": "205322e4",
   "metadata": {},
   "outputs": [],
   "source": [
    "class Character:\n",
    "    max_speed: int = 100\n",
    "    DEAD_HEALTH = 0\n",
    "    \n",
    "    def __init__(self, race:str, damage:int=10, armor:int=20) -> None:\n",
    "        self.race:str = race\n",
    "        self.damage:int = damage\n",
    "        self.armor:int = armor\n",
    "        self.health:int = 100\n",
    "        \n",
    "    def hit(self, damage:int):\n",
    "        self.health -= damage\n",
    "        \n",
    "    def is_dead(self):\n",
    "        return self.health == Character.DEAD_HEALTH"
   ]
  },
  {
   "cell_type": "code",
   "execution_count": 6,
   "id": "38953d03",
   "metadata": {},
   "outputs": [],
   "source": [
    "unit_elf = Character('Elf')"
   ]
  },
  {
   "cell_type": "code",
   "execution_count": 7,
   "id": "cb10cc95",
   "metadata": {},
   "outputs": [
    {
     "name": "stdout",
     "output_type": "stream",
     "text": [
      "80\n"
     ]
    }
   ],
   "source": [
    "unit_elf.hit(20)\n",
    "print(unit_elf.health)"
   ]
  },
  {
   "cell_type": "code",
   "execution_count": 8,
   "id": "13568fb1",
   "metadata": {},
   "outputs": [
    {
     "data": {
      "text/plain": [
       "False"
      ]
     },
     "execution_count": 8,
     "metadata": {},
     "output_type": "execute_result"
    }
   ],
   "source": [
    "unit_elf.is_dead()"
   ]
  },
  {
   "cell_type": "code",
   "execution_count": 9,
   "id": "619273bf",
   "metadata": {},
   "outputs": [
    {
     "data": {
      "text/plain": [
       "True"
      ]
     },
     "execution_count": 9,
     "metadata": {},
     "output_type": "execute_result"
    }
   ],
   "source": [
    "unit_elf.hit(80)\n",
    "unit_elf.is_dead()"
   ]
  },
  {
   "cell_type": "code",
   "execution_count": null,
   "id": "03fc4963",
   "metadata": {},
   "outputs": [],
   "source": []
  }
 ],
 "metadata": {
  "kernelspec": {
   "display_name": "Python 3 (ipykernel)",
   "language": "python",
   "name": "python3"
  },
  "language_info": {
   "codemirror_mode": {
    "name": "ipython",
    "version": 3
   },
   "file_extension": ".py",
   "mimetype": "text/x-python",
   "name": "python",
   "nbconvert_exporter": "python",
   "pygments_lexer": "ipython3",
   "version": "3.9.13"
  }
 },
 "nbformat": 4,
 "nbformat_minor": 5
}
