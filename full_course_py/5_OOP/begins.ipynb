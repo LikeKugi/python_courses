{
 "cells": [
  {
   "cell_type": "code",
   "execution_count": 1,
   "id": "1eb24f15",
   "metadata": {},
   "outputs": [
    {
     "data": {
      "text/plain": [
       "list"
      ]
     },
     "execution_count": 1,
     "metadata": {},
     "output_type": "execute_result"
    }
   ],
   "source": [
    "numbers = [1, 2, 3]\n",
    "type(numbers)"
   ]
  },
  {
   "cell_type": "code",
   "execution_count": 4,
   "id": "b9ce37c8",
   "metadata": {},
   "outputs": [],
   "source": [
    "class Character:\n",
    "    pass"
   ]
  },
  {
   "cell_type": "code",
   "execution_count": 5,
   "id": "ab0627ec",
   "metadata": {},
   "outputs": [
    {
     "name": "stdout",
     "output_type": "stream",
     "text": [
      "<class '__main__.Character'>\n"
     ]
    }
   ],
   "source": [
    "unit = Character()\n",
    "print(type(unit))"
   ]
  },
  {
   "cell_type": "code",
   "execution_count": 6,
   "id": "2bcd3156",
   "metadata": {},
   "outputs": [],
   "source": [
    "class Character:\n",
    "    race: str\n",
    "    \n",
    "    def __init__(self, race: str) -> None:\n",
    "        self.race = race"
   ]
  },
  {
   "cell_type": "code",
   "execution_count": 7,
   "id": "4fd76686",
   "metadata": {},
   "outputs": [],
   "source": [
    "unit = Character('Elf')"
   ]
  },
  {
   "cell_type": "code",
   "execution_count": 8,
   "id": "af0bf38a",
   "metadata": {},
   "outputs": [
    {
     "data": {
      "text/plain": [
       "'Elf'"
      ]
     },
     "execution_count": 8,
     "metadata": {},
     "output_type": "execute_result"
    }
   ],
   "source": [
    "unit.race"
   ]
  },
  {
   "cell_type": "code",
   "execution_count": 10,
   "id": "6dd81117",
   "metadata": {},
   "outputs": [],
   "source": [
    "class Character:\n",
    "    race: str\n",
    "    damage: int\n",
    "    armor: int\n",
    "    \n",
    "    def __init__(self, race: str, damage:int=10, armor:int=20) -> None:\n",
    "        self.race = race\n",
    "        self.damage = damage\n",
    "        self.armor = armor"
   ]
  },
  {
   "cell_type": "code",
   "execution_count": 11,
   "id": "d71623ab",
   "metadata": {},
   "outputs": [],
   "source": [
    "unit_elf = Character('Elf')"
   ]
  },
  {
   "cell_type": "code",
   "execution_count": 12,
   "id": "a77ef03a",
   "metadata": {},
   "outputs": [],
   "source": [
    "unit_dwarf = Character('Dwarf', 15, 40)"
   ]
  },
  {
   "cell_type": "code",
   "execution_count": 13,
   "id": "9ffcf996",
   "metadata": {},
   "outputs": [
    {
     "name": "stdout",
     "output_type": "stream",
     "text": [
      "Elf: 10 dmg points; 20 armor points\n"
     ]
    }
   ],
   "source": [
    "print(f'{unit_elf.race}: {unit_elf.damage} dmg points; {unit_elf.armor} armor points')"
   ]
  },
  {
   "cell_type": "code",
   "execution_count": 14,
   "id": "d076174c",
   "metadata": {},
   "outputs": [
    {
     "name": "stdout",
     "output_type": "stream",
     "text": [
      "Dwarf: 15 dmg points; 40 armor points\n"
     ]
    }
   ],
   "source": [
    "print(f'{unit_dwarf.race}: {unit_dwarf.damage} dmg points; {unit_dwarf.armor} armor points')"
   ]
  },
  {
   "cell_type": "code",
   "execution_count": null,
   "id": "808eb466",
   "metadata": {},
   "outputs": [],
   "source": []
  }
 ],
 "metadata": {
  "kernelspec": {
   "display_name": "Python 3 (ipykernel)",
   "language": "python",
   "name": "python3"
  },
  "language_info": {
   "codemirror_mode": {
    "name": "ipython",
    "version": 3
   },
   "file_extension": ".py",
   "mimetype": "text/x-python",
   "name": "python",
   "nbconvert_exporter": "python",
   "pygments_lexer": "ipython3",
   "version": "3.9.13"
  }
 },
 "nbformat": 4,
 "nbformat_minor": 5
}
