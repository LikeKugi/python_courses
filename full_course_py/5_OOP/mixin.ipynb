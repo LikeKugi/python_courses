{
 "cells": [
  {
   "cell_type": "code",
   "execution_count": 1,
   "id": "5de88120",
   "metadata": {},
   "outputs": [],
   "source": [
    "class Vehicle:\n",
    "    def __init__(self, position):\n",
    "        self.position = position\n",
    "        \n",
    "    def travel(self, destination):\n",
    "        route = calculate_route(source=self.position, to=destination)\n",
    "        self.move_along(route)\n",
    "        \n",
    "    def calculate_route(self, source, to):\n",
    "        return source+to\n",
    "    \n",
    "    def move_along(self, route):\n",
    "        print('moving')\n",
    "        \n",
    "class Car(Vehicle):\n",
    "    pass\n",
    "\n",
    "class Airplane(Vehicle):\n",
    "    pass"
   ]
  },
  {
   "cell_type": "code",
   "execution_count": 5,
   "id": "2f632a77",
   "metadata": {},
   "outputs": [],
   "source": [
    "class RadioMixin:\n",
    "    def __init__(self):\n",
    "        self.radio = Radio()\n",
    "        \n",
    "    def turn_on(self, station):\n",
    "        self.radio.set_station(station)\n",
    "        self.radio.play()\n",
    "        \n",
    "class Radio:\n",
    "    def set_station(self, station):\n",
    "        self.station = station\n",
    "        \n",
    "    def play(self):\n",
    "        print(f'playing {self.station}')"
   ]
  },
  {
   "cell_type": "code",
   "execution_count": 6,
   "id": "9e32478f",
   "metadata": {},
   "outputs": [],
   "source": [
    "class Car(Vehicle, RadioMixin):\n",
    "    \n",
    "    def __init__(self):\n",
    "        Vehicle.__init__(self, (10,20))\n",
    "        RadioMixin.__init__(self)"
   ]
  },
  {
   "cell_type": "markdown",
   "id": "d793ecac",
   "metadata": {},
   "source": [
    "car = Car()\n",
    "car.turn_on('MoscowFM')"
   ]
  },
  {
   "cell_type": "markdown",
   "id": "04734fbb",
   "metadata": {},
   "source": [
    "effective python - книга\n",
    "brett slatkin"
   ]
  },
  {
   "cell_type": "code",
   "execution_count": 9,
   "id": "d08e288f",
   "metadata": {},
   "outputs": [],
   "source": [
    "class ToDictMixin(object):\n",
    "    def to_dict(self):\n",
    "        return self._traverse_dict(self.__dict__)\n",
    "    \n",
    "    def _traverse_dict(self, instance_dict):\n",
    "        output = dict()\n",
    "        \n",
    "        for key, value in instance_dict.items():\n",
    "            output[key] = self._traverse(key,value)\n",
    "        return output\n",
    "    \n",
    "    def _traverse(self, key, value):\n",
    "        if isinstance(value, ToDictMixin):\n",
    "            return value.to_dict()\n",
    "        elif isinstance(value, dict):\n",
    "            return self._traverse_dict(value)\n",
    "        elif isinstance(value, list):\n",
    "            return [self._traverse(key, i) for i in value]\n",
    "        elif hasattr(value, '__dict__'):\n",
    "            return self._traverse_dict(value.__dict__)\n",
    "        else:\n",
    "            return value"
   ]
  },
  {
   "cell_type": "code",
   "execution_count": 10,
   "id": "57252d25",
   "metadata": {},
   "outputs": [],
   "source": [
    "class BinaryTree(ToDictMixin):\n",
    "    \n",
    "    def __init__(self, value, left=None, right=None):\n",
    "        self.value = value\n",
    "        self.left = left\n",
    "        self.right = right"
   ]
  },
  {
   "cell_type": "code",
   "execution_count": 11,
   "id": "ef60fd18",
   "metadata": {},
   "outputs": [
    {
     "name": "stdout",
     "output_type": "stream",
     "text": [
      "{'value': 10, 'left': {'value': 7, 'left': None, 'right': {'value': 9, 'left': None, 'right': None}}, 'right': {'value': 13, 'left': {'value': 11, 'left': None, 'right': None}, 'right': None}}\n"
     ]
    }
   ],
   "source": [
    "tree = BinaryTree(10, \n",
    "                  left=BinaryTree(7, right=BinaryTree(9)), \n",
    "                  right=BinaryTree(13, left=BinaryTree(11)))\n",
    "\n",
    "print(tree.to_dict())"
   ]
  },
  {
   "cell_type": "code",
   "execution_count": null,
   "id": "11a010da",
   "metadata": {},
   "outputs": [],
   "source": []
  }
 ],
 "metadata": {
  "kernelspec": {
   "display_name": "Python 3 (ipykernel)",
   "language": "python",
   "name": "python3"
  },
  "language_info": {
   "codemirror_mode": {
    "name": "ipython",
    "version": 3
   },
   "file_extension": ".py",
   "mimetype": "text/x-python",
   "name": "python",
   "nbconvert_exporter": "python",
   "pygments_lexer": "ipython3",
   "version": "3.9.13"
  }
 },
 "nbformat": 4,
 "nbformat_minor": 5
}
