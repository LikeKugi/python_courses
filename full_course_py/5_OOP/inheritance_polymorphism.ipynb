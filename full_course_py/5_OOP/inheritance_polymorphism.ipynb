{
 "cells": [
  {
   "cell_type": "code",
   "execution_count": 1,
   "id": "156e3e29",
   "metadata": {},
   "outputs": [],
   "source": [
    "class Shape:\n",
    "    \n",
    "    def __init__(self):\n",
    "        print('Shape created')\n",
    "        \n",
    "    def draw(self):\n",
    "        print('Drawing shape')\n",
    "        \n",
    "    def area(self):\n",
    "        print('Calcing area')\n",
    "        \n",
    "    def perimetr(self):\n",
    "        print('Calcing perimetr')"
   ]
  },
  {
   "cell_type": "code",
   "execution_count": 2,
   "id": "2ffa5309",
   "metadata": {},
   "outputs": [
    {
     "name": "stdout",
     "output_type": "stream",
     "text": [
      "Shape created\n"
     ]
    }
   ],
   "source": [
    "shape = Shape()"
   ]
  },
  {
   "cell_type": "code",
   "execution_count": 3,
   "id": "28086c6f",
   "metadata": {},
   "outputs": [],
   "source": [
    "class Rectangle(Shape):  # Inheritance\n",
    "    \n",
    "    def __init__(self, width, height):\n",
    "        Shape.__init__(self)\n",
    "        \n",
    "        self.width = width\n",
    "        self.height = height\n",
    "        \n",
    "        print('Rectangle created')"
   ]
  },
  {
   "cell_type": "code",
   "execution_count": 4,
   "id": "be1ae1be",
   "metadata": {},
   "outputs": [
    {
     "name": "stdout",
     "output_type": "stream",
     "text": [
      "Shape created\n",
      "Rectangle created\n"
     ]
    }
   ],
   "source": [
    "rectangle = Rectangle(5, 10)"
   ]
  },
  {
   "cell_type": "code",
   "execution_count": 11,
   "id": "0e764703",
   "metadata": {},
   "outputs": [
    {
     "name": "stdout",
     "output_type": "stream",
     "text": [
      "Drawing shape\n"
     ]
    }
   ],
   "source": [
    "rectangle.draw()"
   ]
  },
  {
   "cell_type": "code",
   "execution_count": 12,
   "id": "29a496bd",
   "metadata": {},
   "outputs": [
    {
     "name": "stdout",
     "output_type": "stream",
     "text": [
      "Calcing area\n",
      "Calcing perimetr\n"
     ]
    }
   ],
   "source": [
    "rectangle.area()\n",
    "rectangle.perimetr()"
   ]
  },
  {
   "cell_type": "code",
   "execution_count": 25,
   "id": "8a88fddf",
   "metadata": {},
   "outputs": [],
   "source": [
    "class Rectangle(Shape):  # Inheritance\n",
    "    \n",
    "    def __init__(self, width, height):\n",
    "        Shape.__init__(self)\n",
    "        \n",
    "        self.width = width\n",
    "        self.height = height\n",
    "        \n",
    "        print('Rectangle created')\n",
    "        \n",
    "    def area(self):  \n",
    "        return (f'area = {self.width * self.height}')\n",
    "        \n",
    "    def perimetr(self):\n",
    "        return (f'perimetr = {2 * self.width + 2 * self.height}')\n",
    "    \n",
    "    def draw(self):\n",
    "        print(f'Drawing rectangle {self.width} * {self.height}')"
   ]
  },
  {
   "cell_type": "code",
   "execution_count": 26,
   "id": "237ddb1f",
   "metadata": {},
   "outputs": [
    {
     "name": "stdout",
     "output_type": "stream",
     "text": [
      "Shape created\n",
      "Rectangle created\n"
     ]
    }
   ],
   "source": [
    "rect1 = Rectangle(5, 10)"
   ]
  },
  {
   "cell_type": "code",
   "execution_count": 27,
   "id": "e7938b37",
   "metadata": {},
   "outputs": [
    {
     "data": {
      "text/plain": [
       "'area = 50'"
      ]
     },
     "execution_count": 27,
     "metadata": {},
     "output_type": "execute_result"
    }
   ],
   "source": [
    "rect1.area()"
   ]
  },
  {
   "cell_type": "code",
   "execution_count": 28,
   "id": "679c8f0d",
   "metadata": {},
   "outputs": [
    {
     "name": "stdout",
     "output_type": "stream",
     "text": [
      "perimetr = 30\n"
     ]
    }
   ],
   "source": [
    "print(rect1.perimetr())"
   ]
  },
  {
   "cell_type": "code",
   "execution_count": 29,
   "id": "8e2505e1",
   "metadata": {},
   "outputs": [
    {
     "name": "stdout",
     "output_type": "stream",
     "text": [
      "Drawing rectangle 5 * 10\n"
     ]
    }
   ],
   "source": [
    "rect1.draw()"
   ]
  },
  {
   "cell_type": "code",
   "execution_count": 20,
   "id": "ee21a2f5",
   "metadata": {},
   "outputs": [],
   "source": [
    "import math\n",
    "\n",
    "class Triangle(Shape):\n",
    "    \n",
    "    def __init__(self, a,b,c):\n",
    "        Shape.__init__(self)\n",
    "        \n",
    "        self.a = a\n",
    "        self.b = b\n",
    "        self.c = c\n",
    "        \n",
    "        print('Triangle.created')\n",
    "        \n",
    "    def draw(self):\n",
    "        print(f'Drawing triangle with sides {self.a}, {self.b}, {self.c}')\n",
    "        \n",
    "    def area(self):\n",
    "        s = (self.a + self.b + self.c) / 2\n",
    "        return math.sqrt(s*(s-self.a)*(s-self.b)*(s-self.c))\n",
    "    \n",
    "    def perimetr(self):\n",
    "        return self.a + self.b + self.c"
   ]
  },
  {
   "cell_type": "code",
   "execution_count": 21,
   "id": "b3cce7e1",
   "metadata": {},
   "outputs": [
    {
     "name": "stdout",
     "output_type": "stream",
     "text": [
      "Shape created\n",
      "Triangle.created\n"
     ]
    }
   ],
   "source": [
    "triangle = Triangle(10, 10, 10)"
   ]
  },
  {
   "cell_type": "code",
   "execution_count": 22,
   "id": "cfdad497",
   "metadata": {},
   "outputs": [
    {
     "name": "stdout",
     "output_type": "stream",
     "text": [
      "Drawing triangle with sides 10, 10, 10\n",
      "43.30127018922193\n",
      "30\n"
     ]
    }
   ],
   "source": [
    "triangle.draw()\n",
    "print(triangle.area())\n",
    "print(triangle.perimetr())"
   ]
  },
  {
   "cell_type": "code",
   "execution_count": 30,
   "id": "76908607",
   "metadata": {},
   "outputs": [
    {
     "name": "stdout",
     "output_type": "stream",
     "text": [
      "Drawing rectangle 5 * 10\n",
      "area = 50\n",
      "perimetr = 30\n",
      "\n",
      "Drawing triangle with sides 10, 10, 10\n",
      "43.30127018922193\n",
      "30\n",
      "\n"
     ]
    }
   ],
   "source": [
    "#  POLYMORPHISM\n",
    "for shape in [rect1, triangle]:\n",
    "    shape.draw()\n",
    "    print(shape.area())\n",
    "    print(shape.perimetr())\n",
    "    print()"
   ]
  },
  {
   "cell_type": "code",
   "execution_count": 31,
   "id": "91021d44",
   "metadata": {},
   "outputs": [],
   "source": [
    "class AbstractShape:\n",
    "    \n",
    "    def __init__(self):\n",
    "        print('Shape created')\n",
    "        \n",
    "    def draw(self):\n",
    "        raise NotImplementedError(\"Can't instantiate an abstract class\")\n",
    "        \n",
    "    def area(self):\n",
    "        raise NotImplementedError(\"Can't instantiate an abstract class\")\n",
    "        \n",
    "    def perimetr(self):\n",
    "        raise NotImplementedError(\"Can't instantiate an abstract class\")"
   ]
  },
  {
   "cell_type": "code",
   "execution_count": 32,
   "id": "419ff414",
   "metadata": {},
   "outputs": [
    {
     "name": "stdout",
     "output_type": "stream",
     "text": [
      "Shape created\n"
     ]
    }
   ],
   "source": [
    "a_shape = AbstractShape()\n"
   ]
  },
  {
   "cell_type": "code",
   "execution_count": 33,
   "id": "cfa460b2",
   "metadata": {},
   "outputs": [
    {
     "ename": "NotImplementedError",
     "evalue": "Can't instantiate an abstract class",
     "output_type": "error",
     "traceback": [
      "\u001b[1;31m---------------------------------------------------------------------------\u001b[0m",
      "\u001b[1;31mNotImplementedError\u001b[0m                       Traceback (most recent call last)",
      "\u001b[1;32m~\\AppData\\Local\\Temp\\ipykernel_4004\\3725047608.py\u001b[0m in \u001b[0;36m<module>\u001b[1;34m\u001b[0m\n\u001b[1;32m----> 1\u001b[1;33m \u001b[0ma_shape\u001b[0m\u001b[1;33m.\u001b[0m\u001b[0mdraw\u001b[0m\u001b[1;33m(\u001b[0m\u001b[1;33m)\u001b[0m\u001b[1;33m\u001b[0m\u001b[1;33m\u001b[0m\u001b[0m\n\u001b[0m",
      "\u001b[1;32m~\\AppData\\Local\\Temp\\ipykernel_4004\\1004509916.py\u001b[0m in \u001b[0;36mdraw\u001b[1;34m(self)\u001b[0m\n\u001b[0;32m      5\u001b[0m \u001b[1;33m\u001b[0m\u001b[0m\n\u001b[0;32m      6\u001b[0m     \u001b[1;32mdef\u001b[0m \u001b[0mdraw\u001b[0m\u001b[1;33m(\u001b[0m\u001b[0mself\u001b[0m\u001b[1;33m)\u001b[0m\u001b[1;33m:\u001b[0m\u001b[1;33m\u001b[0m\u001b[1;33m\u001b[0m\u001b[0m\n\u001b[1;32m----> 7\u001b[1;33m         \u001b[1;32mraise\u001b[0m \u001b[0mNotImplementedError\u001b[0m\u001b[1;33m(\u001b[0m\u001b[1;34m\"Can't instantiate an abstract class\"\u001b[0m\u001b[1;33m)\u001b[0m\u001b[1;33m\u001b[0m\u001b[1;33m\u001b[0m\u001b[0m\n\u001b[0m\u001b[0;32m      8\u001b[0m \u001b[1;33m\u001b[0m\u001b[0m\n\u001b[0;32m      9\u001b[0m     \u001b[1;32mdef\u001b[0m \u001b[0marea\u001b[0m\u001b[1;33m(\u001b[0m\u001b[0mself\u001b[0m\u001b[1;33m)\u001b[0m\u001b[1;33m:\u001b[0m\u001b[1;33m\u001b[0m\u001b[1;33m\u001b[0m\u001b[0m\n",
      "\u001b[1;31mNotImplementedError\u001b[0m: Can't instantiate an abstract class"
     ]
    }
   ],
   "source": [
    "a_shape.draw()"
   ]
  },
  {
   "cell_type": "code",
   "execution_count": null,
   "id": "d43d309e",
   "metadata": {},
   "outputs": [],
   "source": []
  }
 ],
 "metadata": {
  "kernelspec": {
   "display_name": "Python 3 (ipykernel)",
   "language": "python",
   "name": "python3"
  },
  "language_info": {
   "codemirror_mode": {
    "name": "ipython",
    "version": 3
   },
   "file_extension": ".py",
   "mimetype": "text/x-python",
   "name": "python",
   "nbconvert_exporter": "python",
   "pygments_lexer": "ipython3",
   "version": "3.9.13"
  }
 },
 "nbformat": 4,
 "nbformat_minor": 5
}
