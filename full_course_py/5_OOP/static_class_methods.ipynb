{
 "cells": [
  {
   "cell_type": "code",
   "execution_count": 1,
   "id": "5b5e6791",
   "metadata": {},
   "outputs": [],
   "source": [
    "class StaticTest:\n",
    "    x = 1"
   ]
  },
  {
   "cell_type": "code",
   "execution_count": 2,
   "id": "d3e6ab89",
   "metadata": {},
   "outputs": [],
   "source": [
    "t1 = StaticTest()"
   ]
  },
  {
   "cell_type": "code",
   "execution_count": 8,
   "id": "00f618f4",
   "metadata": {},
   "outputs": [
    {
     "name": "stdout",
     "output_type": "stream",
     "text": [
      "via instance 2\n",
      "via class 3\n"
     ]
    }
   ],
   "source": [
    "print(f'via instance {t1.x}')\n",
    "print(f'via class {StaticTest.x}')"
   ]
  },
  {
   "cell_type": "code",
   "execution_count": 4,
   "id": "3ff5d5a7",
   "metadata": {},
   "outputs": [],
   "source": [
    "t1.x=2"
   ]
  },
  {
   "cell_type": "code",
   "execution_count": 9,
   "id": "7166bb3e",
   "metadata": {
    "scrolled": false
   },
   "outputs": [
    {
     "name": "stdout",
     "output_type": "stream",
     "text": [
      "via instance 2\n",
      "via class 3\n"
     ]
    }
   ],
   "source": [
    "print(f'via instance {t1.x}')\n",
    "print(f'via class {StaticTest.x}')"
   ]
  },
  {
   "cell_type": "code",
   "execution_count": 6,
   "id": "e62f402b",
   "metadata": {},
   "outputs": [],
   "source": [
    "StaticTest.x = 3"
   ]
  },
  {
   "cell_type": "code",
   "execution_count": 10,
   "id": "d8d19aff",
   "metadata": {},
   "outputs": [
    {
     "name": "stdout",
     "output_type": "stream",
     "text": [
      "via instance 2\n",
      "via class 3\n"
     ]
    }
   ],
   "source": [
    "print(f'via instance {t1.x}')\n",
    "print(f'via class {StaticTest.x}')"
   ]
  },
  {
   "cell_type": "code",
   "execution_count": 11,
   "id": "98f436d6",
   "metadata": {},
   "outputs": [],
   "source": [
    "class Date:\n",
    "    def __init__(self, month, day, year):\n",
    "        self.month = month\n",
    "        self.day = day\n",
    "        self. year = year\n",
    "        \n",
    "    def display(self):\n",
    "        return f'{self.month}-{self.day}-{self.year}'\n",
    "    \n",
    "    @classmethod\n",
    "    def millenium_c(cls, month, day):\n",
    "        return cls(month, day, 2000)\n",
    "    \n",
    "    @staticmethod\n",
    "    def millenium_s(month, day):\n",
    "        return Date(month, day, 2000)"
   ]
  },
  {
   "cell_type": "code",
   "execution_count": 12,
   "id": "81635e07",
   "metadata": {},
   "outputs": [
    {
     "name": "stdout",
     "output_type": "stream",
     "text": [
      "6-9-2000\n",
      "6-9-2000\n"
     ]
    }
   ],
   "source": [
    "d1 = Date.millenium_c(6, 9)\n",
    "d2 = Date.millenium_s(6, 9)\n",
    "\n",
    "print(d1.display())\n",
    "print(d2.display())"
   ]
  },
  {
   "cell_type": "code",
   "execution_count": 13,
   "id": "2f4f621c",
   "metadata": {},
   "outputs": [],
   "source": [
    "class DateTime(Date):\n",
    "    def display(self):\n",
    "        return f'{self.month}-{self.day}-{self.year} - 00:00:00PM'"
   ]
  },
  {
   "cell_type": "code",
   "execution_count": 14,
   "id": "1c5e3ffe",
   "metadata": {},
   "outputs": [
    {
     "name": "stdout",
     "output_type": "stream",
     "text": [
      "True\n",
      "False\n",
      "10-10-1990 - 00:00:00PM\n",
      "10-10-2000\n"
     ]
    }
   ],
   "source": [
    "dt1 = DateTime(10, 10, 1990)\n",
    "dt2 = DateTime.millenium_s(10, 10)\n",
    "\n",
    "print(isinstance(dt1, DateTime))\n",
    "print(isinstance(dt2, DateTime))\n",
    "\n",
    "print(dt1.display())\n",
    "print(dt2.display())"
   ]
  },
  {
   "cell_type": "code",
   "execution_count": 15,
   "id": "594cbc1a",
   "metadata": {},
   "outputs": [
    {
     "name": "stdout",
     "output_type": "stream",
     "text": [
      "True\n",
      "True\n",
      "10-10-1990 - 00:00:00PM\n",
      "10-10-2000 - 00:00:00PM\n"
     ]
    }
   ],
   "source": [
    "dt1 = DateTime(10, 10, 1990)\n",
    "dt2 = DateTime.millenium_c(10, 10)\n",
    "\n",
    "print(isinstance(dt1, DateTime))\n",
    "print(isinstance(dt2, DateTime))\n",
    "\n",
    "print(dt1.display())\n",
    "print(dt2.display())"
   ]
  },
  {
   "cell_type": "markdown",
   "id": "28bf7cb0",
   "metadata": {},
   "source": [
    "- @classmethod - factory method (конструирование классов)\n",
    "\n",
    "- @staticmethod - абстрагирован от класса"
   ]
  },
  {
   "cell_type": "code",
   "execution_count": 23,
   "id": "dcbe847f",
   "metadata": {},
   "outputs": [],
   "source": [
    "class StrConverter:\n",
    "    \n",
    "    @staticmethod\n",
    "    def to_str(bytes_or_str):\n",
    "        if isinstance(bytes_or_str, bytes):\n",
    "            value = bytes_or_str.decode('utf-8')\n",
    "        else:\n",
    "            value = bytes_or_str\n",
    "        return value\n",
    "    \n",
    "    @staticmethod\n",
    "    def to_bytes(bytes_or_str):\n",
    "        if isinstance(bytes_or_str, str):\n",
    "            value = bytes_or_str.encode('utf-8')\n",
    "        else:\n",
    "            value = bytes_or_str            \n",
    "        return value "
   ]
  },
  {
   "cell_type": "code",
   "execution_count": 24,
   "id": "983679e8",
   "metadata": {},
   "outputs": [
    {
     "name": "stdout",
     "output_type": "stream",
     "text": [
      "A\n",
      "A\n"
     ]
    }
   ],
   "source": [
    "print(StrConverter.to_str('\\x41'))\n",
    "print(StrConverter.to_str('A'))"
   ]
  },
  {
   "cell_type": "code",
   "execution_count": 25,
   "id": "0fcfe886",
   "metadata": {},
   "outputs": [
    {
     "name": "stdout",
     "output_type": "stream",
     "text": [
      "b'A'\n",
      "b'A'\n"
     ]
    }
   ],
   "source": [
    "print(StrConverter.to_bytes('\\x41'))\n",
    "print(StrConverter.to_bytes('A'))"
   ]
  },
  {
   "cell_type": "code",
   "execution_count": null,
   "id": "9c07be2d",
   "metadata": {},
   "outputs": [],
   "source": []
  }
 ],
 "metadata": {
  "kernelspec": {
   "display_name": "Python 3 (ipykernel)",
   "language": "python",
   "name": "python3"
  },
  "language_info": {
   "codemirror_mode": {
    "name": "ipython",
    "version": 3
   },
   "file_extension": ".py",
   "mimetype": "text/x-python",
   "name": "python",
   "nbconvert_exporter": "python",
   "pygments_lexer": "ipython3",
   "version": "3.9.13"
  }
 },
 "nbformat": 4,
 "nbformat_minor": 5
}
