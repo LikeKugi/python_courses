{
 "cells": [
  {
   "cell_type": "code",
   "execution_count": 1,
   "id": "5d065fd0",
   "metadata": {},
   "outputs": [],
   "source": [
    "class Character:\n",
    "    #  python has no immutable const\n",
    "    MAX_SPEED = 100  #  const\n",
    "    \n",
    "    def __init__(self, race: str, damage: int=10) -> None:\n",
    "        self.damage = damage\n",
    "        self.race = race"
   ]
  },
  {
   "cell_type": "code",
   "execution_count": 2,
   "id": "998a59a8",
   "metadata": {},
   "outputs": [
    {
     "data": {
      "text/plain": [
       "100"
      ]
     },
     "execution_count": 2,
     "metadata": {},
     "output_type": "execute_result"
    }
   ],
   "source": [
    "Character.MAX_SPEED"
   ]
  },
  {
   "cell_type": "code",
   "execution_count": 3,
   "id": "d6b3b8c0",
   "metadata": {},
   "outputs": [],
   "source": [
    "class Character:\n",
    "    MAX_SPEED = 100\n",
    "    \n",
    "    def __init__(self, race: str, damage: int=10) -> None:\n",
    "        self.damage = damage\n",
    "        self.__race = race  # private"
   ]
  },
  {
   "cell_type": "code",
   "execution_count": 4,
   "id": "9de1e127",
   "metadata": {},
   "outputs": [
    {
     "ename": "AttributeError",
     "evalue": "'Character' object has no attribute '__race'",
     "output_type": "error",
     "traceback": [
      "\u001b[1;31m---------------------------------------------------------------------------\u001b[0m",
      "\u001b[1;31mAttributeError\u001b[0m                            Traceback (most recent call last)",
      "\u001b[1;32m~\\AppData\\Local\\Temp\\ipykernel_12876\\2435545537.py\u001b[0m in \u001b[0;36m<module>\u001b[1;34m\u001b[0m\n\u001b[0;32m      1\u001b[0m \u001b[0mc\u001b[0m \u001b[1;33m=\u001b[0m \u001b[0mCharacter\u001b[0m\u001b[1;33m(\u001b[0m\u001b[1;34m'Elf'\u001b[0m\u001b[1;33m)\u001b[0m\u001b[1;33m\u001b[0m\u001b[1;33m\u001b[0m\u001b[0m\n\u001b[1;32m----> 2\u001b[1;33m \u001b[0mc\u001b[0m\u001b[1;33m.\u001b[0m\u001b[0m__race\u001b[0m\u001b[1;33m\u001b[0m\u001b[1;33m\u001b[0m\u001b[0m\n\u001b[0m",
      "\u001b[1;31mAttributeError\u001b[0m: 'Character' object has no attribute '__race'"
     ]
    }
   ],
   "source": [
    "c = Character('Elf')\n",
    "c.__race"
   ]
  },
  {
   "cell_type": "code",
   "execution_count": 7,
   "id": "ac7249dc",
   "metadata": {},
   "outputs": [],
   "source": [
    "c._Character__race = 'Dwarf'  #  change dunder attribute"
   ]
  },
  {
   "cell_type": "code",
   "execution_count": 8,
   "id": "5988505b",
   "metadata": {},
   "outputs": [
    {
     "data": {
      "text/plain": [
       "'Dwarf'"
      ]
     },
     "execution_count": 8,
     "metadata": {},
     "output_type": "execute_result"
    }
   ],
   "source": [
    "c._Character__race"
   ]
  },
  {
   "cell_type": "code",
   "execution_count": 10,
   "id": "b45cf51b",
   "metadata": {},
   "outputs": [],
   "source": [
    "class Character:\n",
    "    MAX_SPEED = 100\n",
    "    \n",
    "    def __init__(self, race: str, damage: int=10) -> None:\n",
    "        self.damage = damage\n",
    "        self.__race = race  # private\n",
    "        self._health = 100  # can see out the class\n",
    "    \n",
    "    def hit(self, damage: int) -> None:\n",
    "        self._health -= damage"
   ]
  },
  {
   "cell_type": "code",
   "execution_count": 12,
   "id": "3f99f0d6",
   "metadata": {},
   "outputs": [],
   "source": [
    "c = Character('Ork')"
   ]
  },
  {
   "cell_type": "code",
   "execution_count": 13,
   "id": "6a197181",
   "metadata": {},
   "outputs": [
    {
     "data": {
      "text/plain": [
       "100"
      ]
     },
     "execution_count": 13,
     "metadata": {},
     "output_type": "execute_result"
    }
   ],
   "source": [
    "c._health"
   ]
  },
  {
   "cell_type": "code",
   "execution_count": 15,
   "id": "1fff8dee",
   "metadata": {},
   "outputs": [],
   "source": [
    "c.hit(10)"
   ]
  },
  {
   "cell_type": "code",
   "execution_count": 16,
   "id": "40171f70",
   "metadata": {},
   "outputs": [
    {
     "data": {
      "text/plain": [
       "90"
      ]
     },
     "execution_count": 16,
     "metadata": {},
     "output_type": "execute_result"
    }
   ],
   "source": [
    "c._health"
   ]
  },
  {
   "cell_type": "code",
   "execution_count": 17,
   "id": "f6dcc521",
   "metadata": {},
   "outputs": [
    {
     "name": "stdout",
     "output_type": "stream",
     "text": [
      "50\n"
     ]
    }
   ],
   "source": [
    "c._health = 50  # also can be changed\n",
    "print(c._health)"
   ]
  },
  {
   "cell_type": "code",
   "execution_count": 18,
   "id": "f3862b3c",
   "metadata": {},
   "outputs": [],
   "source": [
    "class Character:\n",
    "    MAX_SPEED = 100\n",
    "    \n",
    "    def __init__(self, race: str, damage: int=10) -> None:\n",
    "        self.damage = damage\n",
    "        self.__race = race  # private\n",
    "        self._health = 100  # protected\n",
    "    \n",
    "    def hit(self, damage: int) -> None:\n",
    "        self._health -= damage\n",
    "     \n",
    "    @property  #  getter\n",
    "    def health(self):\n",
    "        return self._health\n",
    "    \n",
    "    @property  #  getter\n",
    "    def race(self):\n",
    "        return self.__race"
   ]
  },
  {
   "cell_type": "code",
   "execution_count": 20,
   "id": "5988e258",
   "metadata": {},
   "outputs": [
    {
     "name": "stdout",
     "output_type": "stream",
     "text": [
      "100\n",
      "Ork\n"
     ]
    }
   ],
   "source": [
    "c = Character('Ork')\n",
    "print(c.health)\n",
    "print(c.race)"
   ]
  },
  {
   "cell_type": "code",
   "execution_count": 21,
   "id": "d026e783",
   "metadata": {},
   "outputs": [
    {
     "ename": "AttributeError",
     "evalue": "can't set attribute",
     "output_type": "error",
     "traceback": [
      "\u001b[1;31m---------------------------------------------------------------------------\u001b[0m",
      "\u001b[1;31mAttributeError\u001b[0m                            Traceback (most recent call last)",
      "\u001b[1;32m~\\AppData\\Local\\Temp\\ipykernel_12876\\3850548230.py\u001b[0m in \u001b[0;36m<module>\u001b[1;34m\u001b[0m\n\u001b[1;32m----> 1\u001b[1;33m \u001b[0mc\u001b[0m\u001b[1;33m.\u001b[0m\u001b[0mhealth\u001b[0m \u001b[1;33m=\u001b[0m \u001b[1;36m10\u001b[0m\u001b[1;33m\u001b[0m\u001b[1;33m\u001b[0m\u001b[0m\n\u001b[0m",
      "\u001b[1;31mAttributeError\u001b[0m: can't set attribute"
     ]
    }
   ],
   "source": [
    "c.health = 10"
   ]
  },
  {
   "cell_type": "code",
   "execution_count": 22,
   "id": "e24b9acb",
   "metadata": {},
   "outputs": [],
   "source": [
    "class Character:\n",
    "    MAX_SPEED = 100\n",
    "    \n",
    "    def __init__(self, race: str, damage: int=10) -> None:\n",
    "        self.damage = damage\n",
    "        self.__race = race  # private\n",
    "        self._health = 100  # protected\n",
    "        \n",
    "        self._current_speed = 20\n",
    "    \n",
    "    def hit(self, damage: int) -> None:\n",
    "        self._health -= damage\n",
    "     \n",
    "    @property  #  getter\n",
    "    def health(self):\n",
    "        return self._health\n",
    "    \n",
    "    @property  #  getter\n",
    "    def race(self):\n",
    "        return self.__race\n",
    "    \n",
    "    # --------------------------------------------------------\n",
    "    #  Getter - Setter\n",
    "    # --------------------------------------------------------\n",
    "    @property  # getter\n",
    "    def current_speed(self):\n",
    "        return self._current_speed\n",
    "    \n",
    "    @current_speed.setter\n",
    "    def current_speed(self, value):\n",
    "        if value < 0:\n",
    "            self._current_speed = 0\n",
    "        elif value > 100:\n",
    "            self._current_speed = 100\n",
    "        else:\n",
    "            self._current_speed = value\n",
    "    \n",
    "    "
   ]
  },
  {
   "cell_type": "code",
   "execution_count": 23,
   "id": "4c14d135",
   "metadata": {},
   "outputs": [],
   "source": [
    "c = Character('Ork')"
   ]
  },
  {
   "cell_type": "code",
   "execution_count": 24,
   "id": "f287e88f",
   "metadata": {},
   "outputs": [
    {
     "data": {
      "text/plain": [
       "20"
      ]
     },
     "execution_count": 24,
     "metadata": {},
     "output_type": "execute_result"
    }
   ],
   "source": [
    "c.current_speed"
   ]
  },
  {
   "cell_type": "code",
   "execution_count": 25,
   "id": "82c8590f",
   "metadata": {},
   "outputs": [
    {
     "name": "stdout",
     "output_type": "stream",
     "text": [
      "100\n"
     ]
    }
   ],
   "source": [
    "c.current_speed = 150\n",
    "print(c.current_speed)"
   ]
  },
  {
   "cell_type": "code",
   "execution_count": null,
   "id": "ed98d644",
   "metadata": {},
   "outputs": [],
   "source": []
  }
 ],
 "metadata": {
  "kernelspec": {
   "display_name": "Python 3 (ipykernel)",
   "language": "python",
   "name": "python3"
  },
  "language_info": {
   "codemirror_mode": {
    "name": "ipython",
    "version": 3
   },
   "file_extension": ".py",
   "mimetype": "text/x-python",
   "name": "python",
   "nbconvert_exporter": "python",
   "pygments_lexer": "ipython3",
   "version": "3.9.13"
  }
 },
 "nbformat": 4,
 "nbformat_minor": 5
}
