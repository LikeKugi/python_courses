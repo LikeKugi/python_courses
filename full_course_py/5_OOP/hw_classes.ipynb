{
 "cells": [
  {
   "cell_type": "code",
   "execution_count": 3,
   "id": "d83fe91d",
   "metadata": {},
   "outputs": [],
   "source": [
    "class Name:\n",
    "    \n",
    "     def __init__(self, first_name, last_name):\n",
    "            self.first_name = first_name.title()\n",
    "            self.last_name = last_name.title()\n",
    "            self.full_name = self.first_name + ' ' + self.last_name\n",
    "            self.initials = self.first_name[0] + '. ' + self.last_name "
   ]
  },
  {
   "cell_type": "code",
   "execution_count": 4,
   "id": "8ec49f8b",
   "metadata": {},
   "outputs": [],
   "source": [
    "man = Name(\"John\", \"Silver\")"
   ]
  },
  {
   "cell_type": "code",
   "execution_count": 6,
   "id": "7208ee78",
   "metadata": {},
   "outputs": [
    {
     "name": "stdout",
     "output_type": "stream",
     "text": [
      "John\n",
      "Silver\n",
      "John Silver\n",
      "J. Silver\n"
     ]
    }
   ],
   "source": [
    "print(man.first_name)\n",
    "print(man.last_name)\n",
    "print(man.full_name)\n",
    "print(man.initials)"
   ]
  },
  {
   "cell_type": "code",
   "execution_count": 7,
   "id": "7d95cbbc",
   "metadata": {},
   "outputs": [],
   "source": [
    "class Calculator:\n",
    "    \n",
    "    @staticmethod\n",
    "    def add(a,b):\n",
    "        return (a+b)\n",
    "    \n",
    "    @staticmethod\n",
    "    def subtract(a,b):\n",
    "        return a-b\n",
    "    \n",
    "    @staticmethod\n",
    "    def multiply(a,b):\n",
    "        return a*b\n",
    "    \n",
    "    @staticmethod\n",
    "    def divide(a,b):\n",
    "        return a/b if b != 0 else None"
   ]
  },
  {
   "cell_type": "code",
   "execution_count": 8,
   "id": "efd76d78",
   "metadata": {},
   "outputs": [],
   "source": [
    "c = Calculator()"
   ]
  },
  {
   "cell_type": "code",
   "execution_count": 9,
   "id": "7db5118d",
   "metadata": {},
   "outputs": [
    {
     "data": {
      "text/plain": [
       "7"
      ]
     },
     "execution_count": 9,
     "metadata": {},
     "output_type": "execute_result"
    }
   ],
   "source": [
    "c.add(3,4)"
   ]
  },
  {
   "cell_type": "code",
   "execution_count": 11,
   "id": "8bb8c499",
   "metadata": {},
   "outputs": [
    {
     "name": "stdout",
     "output_type": "stream",
     "text": [
      "None\n"
     ]
    }
   ],
   "source": [
    "print(c.divide(1,0))"
   ]
  },
  {
   "cell_type": "code",
   "execution_count": 12,
   "id": "604f7809",
   "metadata": {},
   "outputs": [],
   "source": [
    "class Employee:\n",
    "    \n",
    "    def __init__(self, first_name, last_name, salary):\n",
    "        self.first_name = first_name\n",
    "        self.last_name = last_name\n",
    "        self.salary = salary\n",
    "    \n",
    "    @classmethod\n",
    "    def from_string(cls, str_to_parse):\n",
    "        data = str_to_parse.split('-')\n",
    "        return cls(*data)"
   ]
  },
  {
   "cell_type": "code",
   "execution_count": 14,
   "id": "2af06544",
   "metadata": {},
   "outputs": [],
   "source": [
    "e = Employee.from_string('John-Silver-50000')"
   ]
  },
  {
   "cell_type": "code",
   "execution_count": 15,
   "id": "c3cd0533",
   "metadata": {},
   "outputs": [
    {
     "name": "stdout",
     "output_type": "stream",
     "text": [
      "<__main__.Employee object at 0x0000015FD1129640>\n"
     ]
    }
   ],
   "source": [
    "print(e)"
   ]
  },
  {
   "cell_type": "code",
   "execution_count": 16,
   "id": "579aafc4",
   "metadata": {},
   "outputs": [
    {
     "data": {
      "text/plain": [
       "'John'"
      ]
     },
     "execution_count": 16,
     "metadata": {},
     "output_type": "execute_result"
    }
   ],
   "source": [
    "e.first_name"
   ]
  },
  {
   "cell_type": "code",
   "execution_count": 17,
   "id": "8b7d9afe",
   "metadata": {},
   "outputs": [
    {
     "data": {
      "text/plain": [
       "'Silver'"
      ]
     },
     "execution_count": 17,
     "metadata": {},
     "output_type": "execute_result"
    }
   ],
   "source": [
    "e.last_name"
   ]
  },
  {
   "cell_type": "code",
   "execution_count": 18,
   "id": "845ef94b",
   "metadata": {},
   "outputs": [
    {
     "data": {
      "text/plain": [
       "'50000'"
      ]
     },
     "execution_count": 18,
     "metadata": {},
     "output_type": "execute_result"
    }
   ],
   "source": [
    "e.salary"
   ]
  },
  {
   "cell_type": "code",
   "execution_count": 21,
   "id": "5aff63bc",
   "metadata": {},
   "outputs": [],
   "source": [
    "class Pizza:\n",
    "    order = 0\n",
    "    \n",
    "    def __init__(self, ingridients):\n",
    "        self.ingridients = ingridients\n",
    "        Pizza.order += 1\n",
    "        self.order_number = Pizza.order\n",
    "        \n",
    "    @classmethod\n",
    "    def hawaian(cls):\n",
    "        return cls(['ham', 'pineapple'])\n",
    "    \n",
    "    @classmethod\n",
    "    def meat_festival(cls):\n",
    "        return cls(['beef', 'meatball', 'beacon'])\n",
    "    \n",
    "    @classmethod\n",
    "    def garden_feast(cls):\n",
    "        return cls(['spinach', 'olive', 'mushroom'])"
   ]
  },
  {
   "cell_type": "code",
   "execution_count": 22,
   "id": "05084c95",
   "metadata": {},
   "outputs": [],
   "source": [
    "p1 = Pizza(['ham', 'beef', 'mushroom'])"
   ]
  },
  {
   "cell_type": "code",
   "execution_count": 23,
   "id": "f31e2424",
   "metadata": {},
   "outputs": [
    {
     "data": {
      "text/plain": [
       "['ham', 'beef', 'mushroom']"
      ]
     },
     "execution_count": 23,
     "metadata": {},
     "output_type": "execute_result"
    }
   ],
   "source": [
    "p1.ingridients"
   ]
  },
  {
   "cell_type": "code",
   "execution_count": 25,
   "id": "b4ea2906",
   "metadata": {},
   "outputs": [],
   "source": [
    "p2 = Pizza.hawaian()"
   ]
  },
  {
   "cell_type": "code",
   "execution_count": 26,
   "id": "d45f8509",
   "metadata": {},
   "outputs": [
    {
     "data": {
      "text/plain": [
       "['ham', 'pineapple']"
      ]
     },
     "execution_count": 26,
     "metadata": {},
     "output_type": "execute_result"
    }
   ],
   "source": [
    "p2.ingridients"
   ]
  },
  {
   "cell_type": "code",
   "execution_count": 27,
   "id": "7b3b31ef",
   "metadata": {},
   "outputs": [],
   "source": [
    "p3 = Pizza.meat_festival()"
   ]
  },
  {
   "cell_type": "code",
   "execution_count": 29,
   "id": "4449c04e",
   "metadata": {},
   "outputs": [
    {
     "name": "stdout",
     "output_type": "stream",
     "text": [
      "3\n",
      "1 2 3\n"
     ]
    }
   ],
   "source": [
    "print(Pizza.order)\n",
    "print(p1.order_number, p2.order_number, p3.order_number)"
   ]
  },
  {
   "cell_type": "code",
   "execution_count": 32,
   "id": "0bd627ad",
   "metadata": {},
   "outputs": [],
   "source": [
    "import math\n",
    "\n",
    "class Circle:\n",
    "    \n",
    "    def __init__(self, r=0):\n",
    "        self.r = r\n",
    "        \n",
    "    def area(self):\n",
    "        return math.pi * self.r**2\n",
    "    \n",
    "    def perimetr(self):\n",
    "        return 2*math.pi*self.r"
   ]
  },
  {
   "cell_type": "code",
   "execution_count": 33,
   "id": "a3625754",
   "metadata": {},
   "outputs": [],
   "source": [
    "c = Circle(10)"
   ]
  },
  {
   "cell_type": "code",
   "execution_count": 34,
   "id": "8edb3741",
   "metadata": {},
   "outputs": [
    {
     "name": "stdout",
     "output_type": "stream",
     "text": [
      "314.1592653589793\n",
      "62.83185307179586\n"
     ]
    }
   ],
   "source": [
    "print(c.area())\n",
    "print(c.perimetr())"
   ]
  },
  {
   "cell_type": "code",
   "execution_count": 35,
   "id": "03b8bd0c",
   "metadata": {},
   "outputs": [],
   "source": [
    "prices = {\n",
    "    'Strawberries': 1.5,\n",
    "    'Banana': 0.5,\n",
    "    'Mango': 2.5,\n",
    "    'Blueberries': 1,\n",
    "    'Raspberries': 1,\n",
    "    'Apple': 1.75,\n",
    "    'Pineapple': 3.5\n",
    "}"
   ]
  },
  {
   "cell_type": "code",
   "execution_count": 54,
   "id": "1f308856",
   "metadata": {},
   "outputs": [],
   "source": [
    "class Beverage:\n",
    "    \n",
    "    def __init__(self, ingridients):\n",
    "        self.ingridients = ingridients\n",
    "        self.cost = sum([prices.get(fruit) for fruit in self.ingridients])\n",
    "        \n",
    "        self.price = (self.cost * 2.5)\n",
    "        \n",
    "    def get_cost(self):\n",
    "        return f'${self.cost:2f}'\n",
    "    \n",
    "    def get_price(self):\n",
    "        return f'${self.price:2f}'\n",
    "    \n",
    "    def get_name(self):\n",
    "        ingr = sorted([el.replace('ies', 'y') for el in self.ingridients ])\n",
    "        \n",
    "        return ' '.join(ingr) + (' fusion', ' smoothie')[len(ingr)==1]"
   ]
  },
  {
   "cell_type": "code",
   "execution_count": 55,
   "id": "9460cd0b",
   "metadata": {},
   "outputs": [],
   "source": [
    "b1 = Beverage(['Banana'])"
   ]
  },
  {
   "cell_type": "code",
   "execution_count": 57,
   "id": "215574e8",
   "metadata": {},
   "outputs": [
    {
     "name": "stdout",
     "output_type": "stream",
     "text": [
      "['Banana']\n"
     ]
    }
   ],
   "source": [
    "print(b1.ingridients)"
   ]
  },
  {
   "cell_type": "code",
   "execution_count": 58,
   "id": "5103ff7e",
   "metadata": {},
   "outputs": [
    {
     "name": "stdout",
     "output_type": "stream",
     "text": [
      "$0.500000\n",
      "$1.250000\n",
      "Banana smoothie\n"
     ]
    }
   ],
   "source": [
    "print(b1.get_cost())\n",
    "print(b1.get_price())\n",
    "print(b1.get_name())"
   ]
  },
  {
   "cell_type": "code",
   "execution_count": 59,
   "id": "fc7f6d77",
   "metadata": {},
   "outputs": [
    {
     "name": "stdout",
     "output_type": "stream",
     "text": [
      "['Banana', 'Apple', 'Strawberries', 'Blueberries']\n",
      "$4.750000\n",
      "$11.875000\n",
      "Apple Banana Blueberry Strawberry fusion\n"
     ]
    }
   ],
   "source": [
    "b2 = Beverage(['Banana', 'Apple', 'Strawberries', 'Blueberries'])\n",
    "print(b2.ingridients)\n",
    "print(b2.get_cost())\n",
    "print(b2.get_price())\n",
    "print(b2.get_name())"
   ]
  },
  {
   "cell_type": "code",
   "execution_count": null,
   "id": "d9481890",
   "metadata": {},
   "outputs": [],
   "source": []
  }
 ],
 "metadata": {
  "kernelspec": {
   "display_name": "Python 3 (ipykernel)",
   "language": "python",
   "name": "python3"
  },
  "language_info": {
   "codemirror_mode": {
    "name": "ipython",
    "version": 3
   },
   "file_extension": ".py",
   "mimetype": "text/x-python",
   "name": "python",
   "nbconvert_exporter": "python",
   "pygments_lexer": "ipython3",
   "version": "3.9.13"
  }
 },
 "nbformat": 4,
 "nbformat_minor": 5
}
