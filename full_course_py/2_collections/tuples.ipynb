{
 "cells": [
  {
   "cell_type": "markdown",
   "id": "fcb4cb46",
   "metadata": {},
   "source": [
    "# tuple\n",
    "immutable type"
   ]
  },
  {
   "cell_type": "code",
   "execution_count": 1,
   "id": "9f3e60d7",
   "metadata": {},
   "outputs": [],
   "source": [
    "strings = ('str1', 'str2', 'str3')"
   ]
  },
  {
   "cell_type": "code",
   "execution_count": 3,
   "id": "a6aea867",
   "metadata": {},
   "outputs": [
    {
     "name": "stdout",
     "output_type": "stream",
     "text": [
      "<class 'tuple'>\n"
     ]
    }
   ],
   "source": [
    "print(type(strings))"
   ]
  },
  {
   "cell_type": "markdown",
   "id": "8ca84917",
   "metadata": {},
   "source": [
    "## namedtuple"
   ]
  },
  {
   "cell_type": "code",
   "execution_count": 5,
   "id": "e46741e2",
   "metadata": {},
   "outputs": [],
   "source": [
    "from collections import namedtuple"
   ]
  },
  {
   "cell_type": "code",
   "execution_count": 6,
   "id": "b777c726",
   "metadata": {},
   "outputs": [],
   "source": [
    "Player = namedtuple('Player', 'name age rating')"
   ]
  },
  {
   "cell_type": "code",
   "execution_count": 7,
   "id": "b7bcb569",
   "metadata": {},
   "outputs": [],
   "source": [
    "players = [Player('Carlsen',1990,2842), Player('Caruana',1992,2822), Player('Mamedyarov',1985,2801)]"
   ]
  },
  {
   "cell_type": "code",
   "execution_count": 8,
   "id": "83ad22e8",
   "metadata": {},
   "outputs": [
    {
     "data": {
      "text/plain": [
       "Player(name='Carlsen', age=1990, rating=2842)"
      ]
     },
     "execution_count": 8,
     "metadata": {},
     "output_type": "execute_result"
    }
   ],
   "source": [
    "players[0]"
   ]
  },
  {
   "cell_type": "code",
   "execution_count": 9,
   "id": "8adc0ace",
   "metadata": {},
   "outputs": [
    {
     "data": {
      "text/plain": [
       "'Carlsen'"
      ]
     },
     "execution_count": 9,
     "metadata": {},
     "output_type": "execute_result"
    }
   ],
   "source": [
    "players[0].name"
   ]
  },
  {
   "cell_type": "code",
   "execution_count": null,
   "id": "f8e0d976",
   "metadata": {},
   "outputs": [],
   "source": []
  }
 ],
 "metadata": {
  "kernelspec": {
   "display_name": "Python 3 (ipykernel)",
   "language": "python",
   "name": "python3"
  },
  "language_info": {
   "codemirror_mode": {
    "name": "ipython",
    "version": 3
   },
   "file_extension": ".py",
   "mimetype": "text/x-python",
   "name": "python",
   "nbconvert_exporter": "python",
   "pygments_lexer": "ipython3",
   "version": "3.9.13"
  }
 },
 "nbformat": 4,
 "nbformat_minor": 5
}
