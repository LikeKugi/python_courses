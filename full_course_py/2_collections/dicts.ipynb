{
 "cells": [
  {
   "cell_type": "markdown",
   "id": "1a486f52",
   "metadata": {},
   "source": [
    "# dict\n",
    "список пар Ключ-Значение"
   ]
  },
  {
   "cell_type": "code",
   "execution_count": 1,
   "id": "f9b27970",
   "metadata": {},
   "outputs": [],
   "source": [
    "players = {\n",
    "    'Carlsen': 2842,\n",
    "    'Caruana': 2822,\n",
    "    'Mamedyarov': 2801,\n",
    "    'Ding': 2797,\n",
    "    'Giri': 2780\n",
    "    }\n",
    "\n",
    "d_dict = dict(a=1, b=2, c=3)"
   ]
  },
  {
   "cell_type": "code",
   "execution_count": 2,
   "id": "495dea57",
   "metadata": {},
   "outputs": [
    {
     "name": "stdout",
     "output_type": "stream",
     "text": [
      "{'Carlsen': 2842, 'Caruana': 2822, 'Mamedyarov': 2801, 'Ding': 2797, 'Giri': 2780}\n"
     ]
    }
   ],
   "source": [
    "print(players)"
   ]
  },
  {
   "cell_type": "code",
   "execution_count": 3,
   "id": "2b5c4f48",
   "metadata": {},
   "outputs": [
    {
     "name": "stdout",
     "output_type": "stream",
     "text": [
      "{'a': 1, 'b': 2, 'c': 3}\n"
     ]
    }
   ],
   "source": [
    "print(d_dict)"
   ]
  },
  {
   "cell_type": "code",
   "execution_count": 4,
   "id": "1b62c154",
   "metadata": {},
   "outputs": [
    {
     "name": "stdout",
     "output_type": "stream",
     "text": [
      "{'Carlsen': 2842, 'Caruana': 2822, 'Mamedyarov': 2801, 'Ding': 2797, 'Giri': 2780, 'So': 2780}\n"
     ]
    }
   ],
   "source": [
    "players['So'] = 2780\n",
    "print(players)"
   ]
  },
  {
   "cell_type": "code",
   "execution_count": 5,
   "id": "8e377119",
   "metadata": {},
   "outputs": [
    {
     "name": "stdout",
     "output_type": "stream",
     "text": [
      "{'Carlsen': 2842, 'Caruana': 2822, 'Mamedyarov': 2801, 'Ding': 2797, 'Giri': 2780, 'So': 2781}\n"
     ]
    }
   ],
   "source": [
    "players['So'] = 2781\n",
    "print(players)"
   ]
  },
  {
   "cell_type": "code",
   "execution_count": 6,
   "id": "1f42589b",
   "metadata": {},
   "outputs": [
    {
     "data": {
      "text/plain": [
       "dict_keys(['Carlsen', 'Caruana', 'Mamedyarov', 'Ding', 'Giri', 'So'])"
      ]
     },
     "execution_count": 6,
     "metadata": {},
     "output_type": "execute_result"
    }
   ],
   "source": [
    "players.keys()  # keys"
   ]
  },
  {
   "cell_type": "code",
   "execution_count": 7,
   "id": "653a66d7",
   "metadata": {},
   "outputs": [
    {
     "data": {
      "text/plain": [
       "dict_values([2842, 2822, 2801, 2797, 2780, 2781])"
      ]
     },
     "execution_count": 7,
     "metadata": {},
     "output_type": "execute_result"
    }
   ],
   "source": [
    "players.values()  # values"
   ]
  },
  {
   "cell_type": "code",
   "execution_count": 9,
   "id": "ea5a82c5",
   "metadata": {},
   "outputs": [
    {
     "data": {
      "text/plain": [
       "dict_items([('Carlsen', 2842), ('Caruana', 2822), ('Mamedyarov', 2801), ('Ding', 2797), ('Giri', 2780), ('So', 2781)])"
      ]
     },
     "execution_count": 9,
     "metadata": {},
     "output_type": "execute_result"
    }
   ],
   "source": [
    "players.items()  # items: key - value"
   ]
  },
  {
   "cell_type": "code",
   "execution_count": 12,
   "id": "0784cbd7",
   "metadata": {},
   "outputs": [],
   "source": [
    "sorted_players = dict((k,v) for k, v in sorted(players.items(), key=lambda x: x[1]))"
   ]
  },
  {
   "cell_type": "code",
   "execution_count": 14,
   "id": "35854147",
   "metadata": {},
   "outputs": [
    {
     "name": "stdout",
     "output_type": "stream",
     "text": [
      "{'Giri': 2780, 'So': 2781, 'Ding': 2797, 'Mamedyarov': 2801, 'Caruana': 2822, 'Carlsen': 2842}\n"
     ]
    }
   ],
   "source": [
    "print(sorted_players)"
   ]
  },
  {
   "cell_type": "code",
   "execution_count": 16,
   "id": "c40bfcd5",
   "metadata": {},
   "outputs": [
    {
     "name": "stdout",
     "output_type": "stream",
     "text": [
      "True\n"
     ]
    }
   ],
   "source": [
    "print(players == sorted_players)"
   ]
  },
  {
   "cell_type": "code",
   "execution_count": 17,
   "id": "a2aa4496",
   "metadata": {},
   "outputs": [
    {
     "name": "stdout",
     "output_type": "stream",
     "text": [
      "False\n"
     ]
    }
   ],
   "source": [
    "print(players is sorted_players)"
   ]
  },
  {
   "cell_type": "markdown",
   "id": "d95638fd",
   "metadata": {},
   "source": [
    "# OrderedDict"
   ]
  },
  {
   "cell_type": "code",
   "execution_count": 31,
   "id": "c7d08afc",
   "metadata": {},
   "outputs": [],
   "source": [
    "d1 = {y:y.upper() for y in ['a','b','c']}"
   ]
  },
  {
   "cell_type": "code",
   "execution_count": 33,
   "id": "110a46e5",
   "metadata": {},
   "outputs": [],
   "source": [
    "d2 = dict(a='A', c='C', b='B')\n",
    "d3 = dict(c='C', a='A', b='B')"
   ]
  },
  {
   "cell_type": "code",
   "execution_count": 22,
   "id": "7b0c4b5d",
   "metadata": {},
   "outputs": [
    {
     "name": "stdout",
     "output_type": "stream",
     "text": [
      "{'a': 'A', 'b': 'B', 'c': 'C'}\n"
     ]
    }
   ],
   "source": [
    "print(d1)"
   ]
  },
  {
   "cell_type": "code",
   "execution_count": 34,
   "id": "7a56115f",
   "metadata": {},
   "outputs": [
    {
     "name": "stdout",
     "output_type": "stream",
     "text": [
      "True\n",
      "True\n"
     ]
    }
   ],
   "source": [
    "print(d1==d2)\n",
    "print(d1==d3)"
   ]
  },
  {
   "cell_type": "code",
   "execution_count": 40,
   "id": "605f8290",
   "metadata": {},
   "outputs": [],
   "source": [
    "from collections import OrderedDict\n",
    "\n",
    "d1_1 = OrderedDict()\n",
    "d1_1['a'] = 'A'\n",
    "d1_1['b'] = 'B'\n",
    "d1_1['c'] = 'C'\n",
    "\n",
    "d2_1 = OrderedDict()\n",
    "d2_1['a'] = 'A'\n",
    "d2_1['c'] = 'C'\n",
    "d2_1['b'] = 'B'\n",
    "\n",
    "d3_1 = OrderedDict()\n",
    "d3_1['c'] = 'C'\n",
    "d3_1['a'] = 'A'\n",
    "d3_1['b'] = 'B'"
   ]
  },
  {
   "cell_type": "code",
   "execution_count": 39,
   "id": "a4f1ff2a",
   "metadata": {
    "scrolled": true
   },
   "outputs": [
    {
     "name": "stdout",
     "output_type": "stream",
     "text": [
      "True\n",
      "True\n"
     ]
    }
   ],
   "source": [
    "print(d1==d2)\n",
    "print(d1==d3)"
   ]
  },
  {
   "cell_type": "code",
   "execution_count": null,
   "id": "1439ecc4",
   "metadata": {},
   "outputs": [],
   "source": []
  }
 ],
 "metadata": {
  "kernelspec": {
   "display_name": "Python 3 (ipykernel)",
   "language": "python",
   "name": "python3"
  },
  "language_info": {
   "codemirror_mode": {
    "name": "ipython",
    "version": 3
   },
   "file_extension": ".py",
   "mimetype": "text/x-python",
   "name": "python",
   "nbconvert_exporter": "python",
   "pygments_lexer": "ipython3",
   "version": "3.9.13"
  }
 },
 "nbformat": 4,
 "nbformat_minor": 5
}
