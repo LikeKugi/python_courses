{
 "cells": [
  {
   "cell_type": "markdown",
   "id": "0e812789",
   "metadata": {},
   "source": [
    "1. Вывести лесенкой символ звёздочки по кол-ву строк, заданных пользователем:\n",
    "запросить ввод у пользователя кол-ва строк, вывести звёздочки лесенкой."
   ]
  },
  {
   "cell_type": "code",
   "execution_count": 1,
   "id": "0b599128",
   "metadata": {},
   "outputs": [
    {
     "name": "stdout",
     "output_type": "stream",
     "text": [
      "fow many rows? 5\n",
      "*\n",
      "**\n",
      "***\n",
      "****\n",
      "*****\n"
     ]
    }
   ],
   "source": [
    "rows = int(input('fow many rows? '))\n",
    "for i in range(rows):\n",
    "    print('*'*(i+1))"
   ]
  },
  {
   "cell_type": "markdown",
   "id": "1bd53276",
   "metadata": {},
   "source": [
    "2. Запросить у пользователя ввод числа. Построить цикл от 0 до введённого числа (включительно) и для чётных чисел вывести то, что они чётные, а для нечётных, что они нечётные."
   ]
  },
  {
   "cell_type": "code",
   "execution_count": 2,
   "id": "28a5e4f8",
   "metadata": {},
   "outputs": [
    {
     "name": "stdout",
     "output_type": "stream",
     "text": [
      "enter number: 5\n",
      "0 is EVEN\n",
      "1 is ODD\n",
      "2 is EVEN\n",
      "3 is ODD\n",
      "4 is EVEN\n"
     ]
    }
   ],
   "source": [
    "max_number = int(input('enter number: '))\n",
    "for i in range(max_number):\n",
    "    print(f'{i} is', ('EVEN','ODD')[i%2])"
   ]
  },
  {
   "cell_type": "markdown",
   "id": "a7ad7ece",
   "metadata": {},
   "source": [
    "3. Вывести сумму чисел, которые делятся на 3 или на 5 до введённого пользователем числа"
   ]
  },
  {
   "cell_type": "code",
   "execution_count": 3,
   "id": "2aa22926",
   "metadata": {},
   "outputs": [
    {
     "name": "stdout",
     "output_type": "stream",
     "text": [
      "enter number: 20\n",
      "98\n"
     ]
    }
   ],
   "source": [
    "limit = int(input('enter number: '))\n",
    "print(sum([i for i in range(limit + 1) if i%3==0 or i%5==0]))"
   ]
  },
  {
   "cell_type": "markdown",
   "id": "4be12929",
   "metadata": {},
   "source": [
    "4. Объединить 2 списка, из 1го - взять все чётные значения. Из 2го - нечётные"
   ]
  },
  {
   "cell_type": "code",
   "execution_count": 4,
   "id": "3ac59f10",
   "metadata": {},
   "outputs": [
    {
     "name": "stdout",
     "output_type": "stream",
     "text": [
      "list1: [47, 36, 50, 24, 9, 20, 41, 38, 30, 34, 36, 14, 7, 17, 21, 21, 8, 5, 5, 9, 10, 31, 8, 50, 50, 17, 20, 29, 22, 31]\n",
      "list2: [19, 31, 24, 41, 3, 41, 35, 11, 22, 19, 27, 50, 43, 21, 28, 47, 9, 37, 13, 7, 15, 18, 1, 43, 45, 31, 26, 38, 6, 4]\n"
     ]
    }
   ],
   "source": [
    "from random import randint as RI\n",
    "list1 = [RI(0,50) for _ in range(30)]\n",
    "list2 = [RI(0,50) for _ in range(30)]\n",
    "print(f'list1: {list1}')\n",
    "print(f'list2: {list2}')"
   ]
  },
  {
   "cell_type": "code",
   "execution_count": 5,
   "id": "9edf34cf",
   "metadata": {},
   "outputs": [
    {
     "name": "stdout",
     "output_type": "stream",
     "text": [
      "[36, 50, 24, 20, 38, 30, 34, 36, 14, 8, 10, 8, 50, 50, 20, 22, 19, 31, 41, 3, 41, 35, 11, 19, 27, 43, 21, 47, 9, 37, 13, 7, 15, 1, 43, 45, 31]\n"
     ]
    }
   ],
   "source": [
    "total_list = list(filter(lambda x: not x%2, list1)) + list(filter(lambda x: x%2, list2))\n",
    "print(total_list)"
   ]
  },
  {
   "cell_type": "markdown",
   "id": "a49cf0cb",
   "metadata": {},
   "source": [
    "5. Посчитать сумму карт на руке\n",
    "- (2-6) = +1\n",
    "- (7-9) = 0\n",
    "- (10-A) = -1"
   ]
  },
  {
   "cell_type": "code",
   "execution_count": 6,
   "id": "51484626",
   "metadata": {},
   "outputs": [
    {
     "name": "stdout",
     "output_type": "stream",
     "text": [
      "6\n"
     ]
    }
   ],
   "source": [
    "current_hand = [2,3,4,10,'q',5]\n",
    "current_sum = 0\n",
    "for deck in current_hand:\n",
    "    if deck in [2,3,4,5,6]:\n",
    "        current_sum += 1\n",
    "    elif deck in [7,8,9]:\n",
    "        continue\n",
    "    else:\n",
    "        current_sum += 1\n",
    "        \n",
    "print(current_sum)"
   ]
  },
  {
   "cell_type": "markdown",
   "id": "1a0db35b",
   "metadata": {},
   "source": [
    "6. определить Flush в техасском holdem"
   ]
  },
  {
   "cell_type": "code",
   "execution_count": 7,
   "id": "0ed04bf7",
   "metadata": {},
   "outputs": [
    {
     "name": "stdout",
     "output_type": "stream",
     "text": [
      "FLUSH OF D\n"
     ]
    }
   ],
   "source": [
    "table_cards = ['A_S', 'J_H', '7_D', '8_D', '10_D']\n",
    "hand_cards = ['3_D', 'J_D']\n",
    "current_cards = {}\n",
    "for card in (table_cards+hand_cards):\n",
    "    current_cards[card[-1]] = current_cards.setdefault(card[-1],0)+1\n",
    "    \n",
    "for card,count in current_cards.items():\n",
    "    if count == 5:\n",
    "        print(f'FLUSH OF {card}')"
   ]
  },
  {
   "cell_type": "markdown",
   "id": "9a62cde5",
   "metadata": {},
   "source": [
    "7. Pallindrome number checker"
   ]
  },
  {
   "cell_type": "code",
   "execution_count": 8,
   "id": "d9a2e4af",
   "metadata": {},
   "outputs": [
    {
     "name": "stdout",
     "output_type": "stream",
     "text": [
      "enter number to check for pallindrome: 2552\n",
      "number 2552 is a pallindrome\n"
     ]
    }
   ],
   "source": [
    "number = int(input('enter number to check for pallindrome: '))\n",
    "if str(number).replace('-','') == str(number).replace('-','')[::-1]:\n",
    "    print(f'number {number} is a pallindrome')\n",
    "else:\n",
    "    print(f\"number {number} isn't a pallindrome\")"
   ]
  },
  {
   "cell_type": "markdown",
   "id": "e66fe646",
   "metadata": {},
   "source": [
    "8. Угадай число (число загадывает компьютер)"
   ]
  },
  {
   "cell_type": "code",
   "execution_count": 10,
   "id": "f6e48ea8",
   "metadata": {},
   "outputs": [
    {
     "name": "stdout",
     "output_type": "stream",
     "text": [
      "500\n",
      "Too small value\n",
      "attempts to try: 14\n",
      "750\n",
      "Too big value\n",
      "attempts to try: 13\n",
      "600\n",
      "Too small value\n",
      "attempts to try: 12\n",
      "675\n",
      "Too small value\n",
      "attempts to try: 11\n",
      "725\n",
      "Too big value\n",
      "attempts to try: 10\n",
      "700\n",
      "Too small value\n",
      "attempts to try: 9\n",
      "712\n",
      "Too big value\n",
      "attempts to try: 8\n",
      "705\n",
      "Too big value\n",
      "attempts to try: 7\n",
      "702\n",
      "GZ\n"
     ]
    }
   ],
   "source": [
    "import random\n",
    "\n",
    "q_number = random.randint(0,1000)\n",
    "MAX_ATTEMPTS = 15\n",
    "current_attempt = 0\n",
    "\n",
    "while (n:=int(input())) != q_number or current_attempt < MAX_ATTEMPTS:\n",
    "    if n > q_number:\n",
    "        print('Too big value')\n",
    "    elif n < q_number:\n",
    "        print('Too small value')\n",
    "    elif n == q_number:\n",
    "        print('GZ')\n",
    "        break\n",
    "    current_attempt += 1\n",
    "    print(f'attempts to try: {MAX_ATTEMPTS - current_attempt}')\n",
    "else:\n",
    "    print(f'number was {q_number}')"
   ]
  }
 ],
 "metadata": {
  "kernelspec": {
   "display_name": "Python 3 (ipykernel)",
   "language": "python",
   "name": "python3"
  },
  "language_info": {
   "codemirror_mode": {
    "name": "ipython",
    "version": 3
   },
   "file_extension": ".py",
   "mimetype": "text/x-python",
   "name": "python",
   "nbconvert_exporter": "python",
   "pygments_lexer": "ipython3",
   "version": "3.9.13"
  }
 },
 "nbformat": 4,
 "nbformat_minor": 5
}
