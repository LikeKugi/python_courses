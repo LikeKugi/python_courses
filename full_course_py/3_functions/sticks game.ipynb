{
 "cells": [
  {
   "cell_type": "code",
   "execution_count": 4,
   "id": "acbcca3e",
   "metadata": {},
   "outputs": [
    {
     "name": "stdout",
     "output_type": "stream",
     "text": [
      "current count: 10\n",
      "1 takes: 1\n",
      "sticks left 9\n",
      "current count: 9\n",
      "2 takes: 3\n",
      "sticks left 6\n",
      "current count: 6\n",
      "1 takes: 1\n",
      "sticks left 5\n",
      "current count: 5\n",
      "2 takes: 2\n",
      "sticks left 3\n",
      "current count: 3\n",
      "1 takes: 2\n",
      "sticks left 1\n",
      "current count: 1\n",
      "2 takes: 2\n",
      "sticks left -1\n",
      "winner is 1\n"
     ]
    }
   ],
   "source": [
    "sticks_count = 10\n",
    "MAX_TAKE = 3\n",
    "player_turn = 0\n",
    "\n",
    "while sticks_count > 0:\n",
    "    print(f'current count: {sticks_count}')\n",
    "    n = int(input(f'{player_turn+1} takes: '))\n",
    "    if n > sticks_count and not (1 <= n <= 3) :\n",
    "        print('take between 1-3 sticks')\n",
    "        continue\n",
    "    sticks_count -= n\n",
    "    print(f'sticks left {sticks_count}')\n",
    "    player_turn = (player_turn + 1) % 2\n",
    "else:\n",
    "    print(f'winner is {player_turn + 1}')"
   ]
  },
  {
   "cell_type": "code",
   "execution_count": null,
   "id": "5f844afc",
   "metadata": {},
   "outputs": [],
   "source": []
  }
 ],
 "metadata": {
  "kernelspec": {
   "display_name": "Python 3 (ipykernel)",
   "language": "python",
   "name": "python3"
  },
  "language_info": {
   "codemirror_mode": {
    "name": "ipython",
    "version": 3
   },
   "file_extension": ".py",
   "mimetype": "text/x-python",
   "name": "python",
   "nbconvert_exporter": "python",
   "pygments_lexer": "ipython3",
   "version": "3.9.13"
  }
 },
 "nbformat": 4,
 "nbformat_minor": 5
}
