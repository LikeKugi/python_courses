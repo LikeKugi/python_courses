{
 "cells": [
  {
   "cell_type": "markdown",
   "id": "45945131",
   "metadata": {},
   "source": [
    "# количество ходов ханойской башни"
   ]
  },
  {
   "cell_type": "code",
   "execution_count": 1,
   "id": "2c7430ac",
   "metadata": {},
   "outputs": [],
   "source": [
    "def solve_hanoi_tower(discs: int) -> int:\n",
    "    return 2**discs - 1"
   ]
  },
  {
   "cell_type": "code",
   "execution_count": 2,
   "id": "cc32e6a2",
   "metadata": {},
   "outputs": [
    {
     "data": {
      "text/plain": [
       "1023"
      ]
     },
     "execution_count": 2,
     "metadata": {},
     "output_type": "execute_result"
    }
   ],
   "source": [
    "solve_hanoi_tower(10)"
   ]
  },
  {
   "cell_type": "markdown",
   "id": "aec10036",
   "metadata": {},
   "source": [
    "# кости\n",
    "сумма костей, если нет одинаковых за бросок. иначе 0"
   ]
  },
  {
   "cell_type": "code",
   "execution_count": 5,
   "id": "ac070aa3",
   "metadata": {},
   "outputs": [],
   "source": [
    "def calc_dice_scores(lst: list) -> int:\n",
    "    return sum([a+b for a,b in lst]) if not any([a==b for a,b in lst]) else 0"
   ]
  },
  {
   "cell_type": "code",
   "execution_count": 6,
   "id": "c4f6799d",
   "metadata": {},
   "outputs": [
    {
     "data": {
      "text/plain": [
       "24"
      ]
     },
     "execution_count": 6,
     "metadata": {},
     "output_type": "execute_result"
    }
   ],
   "source": [
    "calc_dice_scores([(4, 5), (4, 3), (2, 6)])"
   ]
  },
  {
   "cell_type": "code",
   "execution_count": 7,
   "id": "0102b2cb",
   "metadata": {},
   "outputs": [
    {
     "data": {
      "text/plain": [
       "0"
      ]
     },
     "execution_count": 7,
     "metadata": {},
     "output_type": "execute_result"
    }
   ],
   "source": [
    "calc_dice_scores([(2, 5), (1, 1), (3, 5)])"
   ]
  },
  {
   "cell_type": "code",
   "execution_count": 10,
   "id": "649ebecc",
   "metadata": {},
   "outputs": [],
   "source": [
    "def any_duplicates(square: list[list]) -> bool:\n",
    "    return  len(a:= [x for row in square for x in row]) != len(set(a))"
   ]
  },
  {
   "cell_type": "code",
   "execution_count": 11,
   "id": "b93c1d6f",
   "metadata": {},
   "outputs": [
    {
     "data": {
      "text/plain": [
       "False"
      ]
     },
     "execution_count": 11,
     "metadata": {},
     "output_type": "execute_result"
    }
   ],
   "source": [
    "any_duplicates([[1,2,3],[4,5,6],[7,8,9]])"
   ]
  },
  {
   "cell_type": "code",
   "execution_count": 14,
   "id": "80f12a1e",
   "metadata": {},
   "outputs": [
    {
     "data": {
      "text/plain": [
       "True"
      ]
     },
     "execution_count": 14,
     "metadata": {},
     "output_type": "execute_result"
    }
   ],
   "source": [
    "any_duplicates([[1, 3, 2], [5, 4, 9], [1, 8, 7]])"
   ]
  }
 ],
 "metadata": {
  "kernelspec": {
   "display_name": "Python 3 (ipykernel)",
   "language": "python",
   "name": "python3"
  },
  "language_info": {
   "codemirror_mode": {
    "name": "ipython",
    "version": 3
   },
   "file_extension": ".py",
   "mimetype": "text/x-python",
   "name": "python",
   "nbconvert_exporter": "python",
   "pygments_lexer": "ipython3",
   "version": "3.9.13"
  }
 },
 "nbformat": 4,
 "nbformat_minor": 5
}
